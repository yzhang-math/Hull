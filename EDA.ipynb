{
 "cells": [
  {
   "cell_type": "code",
   "execution_count": 6,
   "id": "61368892",
   "metadata": {},
   "outputs": [
    {
     "name": "stdout",
     "output_type": "stream",
     "text": [
      "Data loaded and prepared successfully.\n",
      "Shape of the dataframe: (2990, 98)\n",
      "Null Value Rates per Column:\n",
      "shape: (98, 3)\n",
      "┌─────────────────┬────────────┬───────────────┐\n",
      "│ column          ┆ null_count ┆ null_rate_pct │\n",
      "│ ---             ┆ ---        ┆ ---           │\n",
      "│ str             ┆ i64        ┆ f64           │\n",
      "╞═════════════════╪════════════╪═══════════════╡\n",
      "│ E7              ┆ 969        ┆ 32.408027     │\n",
      "│ V10             ┆ 49         ┆ 1.638796      │\n",
      "│ date_id         ┆ 0          ┆ 0.0           │\n",
      "│ D1              ┆ 0          ┆ 0.0           │\n",
      "│ D2              ┆ 0          ┆ 0.0           │\n",
      "│ …               ┆ …          ┆ …             │\n",
      "│ V8              ┆ 0          ┆ 0.0           │\n",
      "│ V9              ┆ 0          ┆ 0.0           │\n",
      "│ forward_returns ┆ 0          ┆ 0.0           │\n",
      "│ risk_free_rate  ┆ 0          ┆ 0.0           │\n",
      "│ target          ┆ 0          ┆ 0.0           │\n",
      "└─────────────────┴────────────┴───────────────┘\n"
     ]
    },
    {
     "data": {
      "application/vnd.plotly.v1+json": {
       "config": {
        "plotlyServerURL": "https://plot.ly"
       },
       "data": [
        {
         "hovertemplate": "Feature=%{x}<br>Missing Value Rate (%)=%{y}<extra></extra>",
         "legendgroup": "",
         "marker": {
          "color": "#636efa",
          "pattern": {
           "shape": ""
          }
         },
         "name": "",
         "orientation": "v",
         "showlegend": false,
         "textposition": "auto",
         "type": "bar",
         "x": [
          "E7",
          "V10"
         ],
         "xaxis": "x",
         "y": {
          "bdata": "9iOCODo0QEDKufUjgjj6Pw==",
          "dtype": "f8"
         },
         "yaxis": "y"
        }
       ],
       "layout": {
        "barmode": "relative",
        "height": 600,
        "legend": {
         "tracegroupgap": 0
        },
        "template": {
         "data": {
          "bar": [
           {
            "error_x": {
             "color": "#2a3f5f"
            },
            "error_y": {
             "color": "#2a3f5f"
            },
            "marker": {
             "line": {
              "color": "white",
              "width": 0.5
             },
             "pattern": {
              "fillmode": "overlay",
              "size": 10,
              "solidity": 0.2
             }
            },
            "type": "bar"
           }
          ],
          "barpolar": [
           {
            "marker": {
             "line": {
              "color": "white",
              "width": 0.5
             },
             "pattern": {
              "fillmode": "overlay",
              "size": 10,
              "solidity": 0.2
             }
            },
            "type": "barpolar"
           }
          ],
          "carpet": [
           {
            "aaxis": {
             "endlinecolor": "#2a3f5f",
             "gridcolor": "#C8D4E3",
             "linecolor": "#C8D4E3",
             "minorgridcolor": "#C8D4E3",
             "startlinecolor": "#2a3f5f"
            },
            "baxis": {
             "endlinecolor": "#2a3f5f",
             "gridcolor": "#C8D4E3",
             "linecolor": "#C8D4E3",
             "minorgridcolor": "#C8D4E3",
             "startlinecolor": "#2a3f5f"
            },
            "type": "carpet"
           }
          ],
          "choropleth": [
           {
            "colorbar": {
             "outlinewidth": 0,
             "ticks": ""
            },
            "type": "choropleth"
           }
          ],
          "contour": [
           {
            "colorbar": {
             "outlinewidth": 0,
             "ticks": ""
            },
            "colorscale": [
             [
              0,
              "#0d0887"
             ],
             [
              0.1111111111111111,
              "#46039f"
             ],
             [
              0.2222222222222222,
              "#7201a8"
             ],
             [
              0.3333333333333333,
              "#9c179e"
             ],
             [
              0.4444444444444444,
              "#bd3786"
             ],
             [
              0.5555555555555556,
              "#d8576b"
             ],
             [
              0.6666666666666666,
              "#ed7953"
             ],
             [
              0.7777777777777778,
              "#fb9f3a"
             ],
             [
              0.8888888888888888,
              "#fdca26"
             ],
             [
              1,
              "#f0f921"
             ]
            ],
            "type": "contour"
           }
          ],
          "contourcarpet": [
           {
            "colorbar": {
             "outlinewidth": 0,
             "ticks": ""
            },
            "type": "contourcarpet"
           }
          ],
          "heatmap": [
           {
            "colorbar": {
             "outlinewidth": 0,
             "ticks": ""
            },
            "colorscale": [
             [
              0,
              "#0d0887"
             ],
             [
              0.1111111111111111,
              "#46039f"
             ],
             [
              0.2222222222222222,
              "#7201a8"
             ],
             [
              0.3333333333333333,
              "#9c179e"
             ],
             [
              0.4444444444444444,
              "#bd3786"
             ],
             [
              0.5555555555555556,
              "#d8576b"
             ],
             [
              0.6666666666666666,
              "#ed7953"
             ],
             [
              0.7777777777777778,
              "#fb9f3a"
             ],
             [
              0.8888888888888888,
              "#fdca26"
             ],
             [
              1,
              "#f0f921"
             ]
            ],
            "type": "heatmap"
           }
          ],
          "histogram": [
           {
            "marker": {
             "pattern": {
              "fillmode": "overlay",
              "size": 10,
              "solidity": 0.2
             }
            },
            "type": "histogram"
           }
          ],
          "histogram2d": [
           {
            "colorbar": {
             "outlinewidth": 0,
             "ticks": ""
            },
            "colorscale": [
             [
              0,
              "#0d0887"
             ],
             [
              0.1111111111111111,
              "#46039f"
             ],
             [
              0.2222222222222222,
              "#7201a8"
             ],
             [
              0.3333333333333333,
              "#9c179e"
             ],
             [
              0.4444444444444444,
              "#bd3786"
             ],
             [
              0.5555555555555556,
              "#d8576b"
             ],
             [
              0.6666666666666666,
              "#ed7953"
             ],
             [
              0.7777777777777778,
              "#fb9f3a"
             ],
             [
              0.8888888888888888,
              "#fdca26"
             ],
             [
              1,
              "#f0f921"
             ]
            ],
            "type": "histogram2d"
           }
          ],
          "histogram2dcontour": [
           {
            "colorbar": {
             "outlinewidth": 0,
             "ticks": ""
            },
            "colorscale": [
             [
              0,
              "#0d0887"
             ],
             [
              0.1111111111111111,
              "#46039f"
             ],
             [
              0.2222222222222222,
              "#7201a8"
             ],
             [
              0.3333333333333333,
              "#9c179e"
             ],
             [
              0.4444444444444444,
              "#bd3786"
             ],
             [
              0.5555555555555556,
              "#d8576b"
             ],
             [
              0.6666666666666666,
              "#ed7953"
             ],
             [
              0.7777777777777778,
              "#fb9f3a"
             ],
             [
              0.8888888888888888,
              "#fdca26"
             ],
             [
              1,
              "#f0f921"
             ]
            ],
            "type": "histogram2dcontour"
           }
          ],
          "mesh3d": [
           {
            "colorbar": {
             "outlinewidth": 0,
             "ticks": ""
            },
            "type": "mesh3d"
           }
          ],
          "parcoords": [
           {
            "line": {
             "colorbar": {
              "outlinewidth": 0,
              "ticks": ""
             }
            },
            "type": "parcoords"
           }
          ],
          "pie": [
           {
            "automargin": true,
            "type": "pie"
           }
          ],
          "scatter": [
           {
            "fillpattern": {
             "fillmode": "overlay",
             "size": 10,
             "solidity": 0.2
            },
            "type": "scatter"
           }
          ],
          "scatter3d": [
           {
            "line": {
             "colorbar": {
              "outlinewidth": 0,
              "ticks": ""
             }
            },
            "marker": {
             "colorbar": {
              "outlinewidth": 0,
              "ticks": ""
             }
            },
            "type": "scatter3d"
           }
          ],
          "scattercarpet": [
           {
            "marker": {
             "colorbar": {
              "outlinewidth": 0,
              "ticks": ""
             }
            },
            "type": "scattercarpet"
           }
          ],
          "scattergeo": [
           {
            "marker": {
             "colorbar": {
              "outlinewidth": 0,
              "ticks": ""
             }
            },
            "type": "scattergeo"
           }
          ],
          "scattergl": [
           {
            "marker": {
             "colorbar": {
              "outlinewidth": 0,
              "ticks": ""
             }
            },
            "type": "scattergl"
           }
          ],
          "scattermap": [
           {
            "marker": {
             "colorbar": {
              "outlinewidth": 0,
              "ticks": ""
             }
            },
            "type": "scattermap"
           }
          ],
          "scattermapbox": [
           {
            "marker": {
             "colorbar": {
              "outlinewidth": 0,
              "ticks": ""
             }
            },
            "type": "scattermapbox"
           }
          ],
          "scatterpolar": [
           {
            "marker": {
             "colorbar": {
              "outlinewidth": 0,
              "ticks": ""
             }
            },
            "type": "scatterpolar"
           }
          ],
          "scatterpolargl": [
           {
            "marker": {
             "colorbar": {
              "outlinewidth": 0,
              "ticks": ""
             }
            },
            "type": "scatterpolargl"
           }
          ],
          "scatterternary": [
           {
            "marker": {
             "colorbar": {
              "outlinewidth": 0,
              "ticks": ""
             }
            },
            "type": "scatterternary"
           }
          ],
          "surface": [
           {
            "colorbar": {
             "outlinewidth": 0,
             "ticks": ""
            },
            "colorscale": [
             [
              0,
              "#0d0887"
             ],
             [
              0.1111111111111111,
              "#46039f"
             ],
             [
              0.2222222222222222,
              "#7201a8"
             ],
             [
              0.3333333333333333,
              "#9c179e"
             ],
             [
              0.4444444444444444,
              "#bd3786"
             ],
             [
              0.5555555555555556,
              "#d8576b"
             ],
             [
              0.6666666666666666,
              "#ed7953"
             ],
             [
              0.7777777777777778,
              "#fb9f3a"
             ],
             [
              0.8888888888888888,
              "#fdca26"
             ],
             [
              1,
              "#f0f921"
             ]
            ],
            "type": "surface"
           }
          ],
          "table": [
           {
            "cells": {
             "fill": {
              "color": "#EBF0F8"
             },
             "line": {
              "color": "white"
             }
            },
            "header": {
             "fill": {
              "color": "#C8D4E3"
             },
             "line": {
              "color": "white"
             }
            },
            "type": "table"
           }
          ]
         },
         "layout": {
          "annotationdefaults": {
           "arrowcolor": "#2a3f5f",
           "arrowhead": 0,
           "arrowwidth": 1
          },
          "autotypenumbers": "strict",
          "coloraxis": {
           "colorbar": {
            "outlinewidth": 0,
            "ticks": ""
           }
          },
          "colorscale": {
           "diverging": [
            [
             0,
             "#8e0152"
            ],
            [
             0.1,
             "#c51b7d"
            ],
            [
             0.2,
             "#de77ae"
            ],
            [
             0.3,
             "#f1b6da"
            ],
            [
             0.4,
             "#fde0ef"
            ],
            [
             0.5,
             "#f7f7f7"
            ],
            [
             0.6,
             "#e6f5d0"
            ],
            [
             0.7,
             "#b8e186"
            ],
            [
             0.8,
             "#7fbc41"
            ],
            [
             0.9,
             "#4d9221"
            ],
            [
             1,
             "#276419"
            ]
           ],
           "sequential": [
            [
             0,
             "#0d0887"
            ],
            [
             0.1111111111111111,
             "#46039f"
            ],
            [
             0.2222222222222222,
             "#7201a8"
            ],
            [
             0.3333333333333333,
             "#9c179e"
            ],
            [
             0.4444444444444444,
             "#bd3786"
            ],
            [
             0.5555555555555556,
             "#d8576b"
            ],
            [
             0.6666666666666666,
             "#ed7953"
            ],
            [
             0.7777777777777778,
             "#fb9f3a"
            ],
            [
             0.8888888888888888,
             "#fdca26"
            ],
            [
             1,
             "#f0f921"
            ]
           ],
           "sequentialminus": [
            [
             0,
             "#0d0887"
            ],
            [
             0.1111111111111111,
             "#46039f"
            ],
            [
             0.2222222222222222,
             "#7201a8"
            ],
            [
             0.3333333333333333,
             "#9c179e"
            ],
            [
             0.4444444444444444,
             "#bd3786"
            ],
            [
             0.5555555555555556,
             "#d8576b"
            ],
            [
             0.6666666666666666,
             "#ed7953"
            ],
            [
             0.7777777777777778,
             "#fb9f3a"
            ],
            [
             0.8888888888888888,
             "#fdca26"
            ],
            [
             1,
             "#f0f921"
            ]
           ]
          },
          "colorway": [
           "#636efa",
           "#EF553B",
           "#00cc96",
           "#ab63fa",
           "#FFA15A",
           "#19d3f3",
           "#FF6692",
           "#B6E880",
           "#FF97FF",
           "#FECB52"
          ],
          "font": {
           "color": "#2a3f5f"
          },
          "geo": {
           "bgcolor": "white",
           "lakecolor": "white",
           "landcolor": "white",
           "showlakes": true,
           "showland": true,
           "subunitcolor": "#C8D4E3"
          },
          "hoverlabel": {
           "align": "left"
          },
          "hovermode": "closest",
          "mapbox": {
           "style": "light"
          },
          "paper_bgcolor": "white",
          "plot_bgcolor": "white",
          "polar": {
           "angularaxis": {
            "gridcolor": "#EBF0F8",
            "linecolor": "#EBF0F8",
            "ticks": ""
           },
           "bgcolor": "white",
           "radialaxis": {
            "gridcolor": "#EBF0F8",
            "linecolor": "#EBF0F8",
            "ticks": ""
           }
          },
          "scene": {
           "xaxis": {
            "backgroundcolor": "white",
            "gridcolor": "#DFE8F3",
            "gridwidth": 2,
            "linecolor": "#EBF0F8",
            "showbackground": true,
            "ticks": "",
            "zerolinecolor": "#EBF0F8"
           },
           "yaxis": {
            "backgroundcolor": "white",
            "gridcolor": "#DFE8F3",
            "gridwidth": 2,
            "linecolor": "#EBF0F8",
            "showbackground": true,
            "ticks": "",
            "zerolinecolor": "#EBF0F8"
           },
           "zaxis": {
            "backgroundcolor": "white",
            "gridcolor": "#DFE8F3",
            "gridwidth": 2,
            "linecolor": "#EBF0F8",
            "showbackground": true,
            "ticks": "",
            "zerolinecolor": "#EBF0F8"
           }
          },
          "shapedefaults": {
           "line": {
            "color": "#2a3f5f"
           }
          },
          "ternary": {
           "aaxis": {
            "gridcolor": "#DFE8F3",
            "linecolor": "#A2B1C6",
            "ticks": ""
           },
           "baxis": {
            "gridcolor": "#DFE8F3",
            "linecolor": "#A2B1C6",
            "ticks": ""
           },
           "bgcolor": "white",
           "caxis": {
            "gridcolor": "#DFE8F3",
            "linecolor": "#A2B1C6",
            "ticks": ""
           }
          },
          "title": {
           "x": 0.05
          },
          "xaxis": {
           "automargin": true,
           "gridcolor": "#EBF0F8",
           "linecolor": "#EBF0F8",
           "ticks": "",
           "title": {
            "standoff": 15
           },
           "zerolinecolor": "#EBF0F8",
           "zerolinewidth": 2
          },
          "yaxis": {
           "automargin": true,
           "gridcolor": "#EBF0F8",
           "linecolor": "#EBF0F8",
           "ticks": "",
           "title": {
            "standoff": 15
           },
           "zerolinecolor": "#EBF0F8",
           "zerolinewidth": 2
          }
         }
        },
        "title": {
         "text": "Percentage of Missing Values per Feature (Features with >0% Missing)"
        },
        "xaxis": {
         "anchor": "y",
         "domain": [
          0,
          1
         ],
         "tickangle": -90,
         "title": {
          "text": "Feature"
         }
        },
        "yaxis": {
         "anchor": "x",
         "domain": [
          0,
          1
         ],
         "title": {
          "text": "Missing Value Rate (%)"
         }
        }
       }
      }
     },
     "metadata": {},
     "output_type": "display_data"
    },
    {
     "data": {
      "application/vnd.plotly.v1+json": {
       "config": {
        "plotlyServerURL": "https://plot.ly"
       },
       "data": [
        {
         "bingroup": "x",
         "hovertemplate": "Excess Return=%{x}<br>count=%{y}<extra></extra>",
         "legendgroup": "",
         "marker": {
          "color": "#636efa",
          "pattern": {
           "shape": ""
          }
         },
         "name": "",
         "nbinsx": 100,
         "orientation": "v",
         "showlegend": false,
         "type": "histogram",
         "x": {
          "bdata": "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",
          "dtype": "f8"
         },
         "xaxis": "x",
         "yaxis": "y"
        }
       ],
       "layout": {
        "barmode": "relative",
        "legend": {
         "tracegroupgap": 0
        },
        "template": {
         "data": {
          "bar": [
           {
            "error_x": {
             "color": "#2a3f5f"
            },
            "error_y": {
             "color": "#2a3f5f"
            },
            "marker": {
             "line": {
              "color": "white",
              "width": 0.5
             },
             "pattern": {
              "fillmode": "overlay",
              "size": 10,
              "solidity": 0.2
             }
            },
            "type": "bar"
           }
          ],
          "barpolar": [
           {
            "marker": {
             "line": {
              "color": "white",
              "width": 0.5
             },
             "pattern": {
              "fillmode": "overlay",
              "size": 10,
              "solidity": 0.2
             }
            },
            "type": "barpolar"
           }
          ],
          "carpet": [
           {
            "aaxis": {
             "endlinecolor": "#2a3f5f",
             "gridcolor": "#C8D4E3",
             "linecolor": "#C8D4E3",
             "minorgridcolor": "#C8D4E3",
             "startlinecolor": "#2a3f5f"
            },
            "baxis": {
             "endlinecolor": "#2a3f5f",
             "gridcolor": "#C8D4E3",
             "linecolor": "#C8D4E3",
             "minorgridcolor": "#C8D4E3",
             "startlinecolor": "#2a3f5f"
            },
            "type": "carpet"
           }
          ],
          "choropleth": [
           {
            "colorbar": {
             "outlinewidth": 0,
             "ticks": ""
            },
            "type": "choropleth"
           }
          ],
          "contour": [
           {
            "colorbar": {
             "outlinewidth": 0,
             "ticks": ""
            },
            "colorscale": [
             [
              0,
              "#0d0887"
             ],
             [
              0.1111111111111111,
              "#46039f"
             ],
             [
              0.2222222222222222,
              "#7201a8"
             ],
             [
              0.3333333333333333,
              "#9c179e"
             ],
             [
              0.4444444444444444,
              "#bd3786"
             ],
             [
              0.5555555555555556,
              "#d8576b"
             ],
             [
              0.6666666666666666,
              "#ed7953"
             ],
             [
              0.7777777777777778,
              "#fb9f3a"
             ],
             [
              0.8888888888888888,
              "#fdca26"
             ],
             [
              1,
              "#f0f921"
             ]
            ],
            "type": "contour"
           }
          ],
          "contourcarpet": [
           {
            "colorbar": {
             "outlinewidth": 0,
             "ticks": ""
            },
            "type": "contourcarpet"
           }
          ],
          "heatmap": [
           {
            "colorbar": {
             "outlinewidth": 0,
             "ticks": ""
            },
            "colorscale": [
             [
              0,
              "#0d0887"
             ],
             [
              0.1111111111111111,
              "#46039f"
             ],
             [
              0.2222222222222222,
              "#7201a8"
             ],
             [
              0.3333333333333333,
              "#9c179e"
             ],
             [
              0.4444444444444444,
              "#bd3786"
             ],
             [
              0.5555555555555556,
              "#d8576b"
             ],
             [
              0.6666666666666666,
              "#ed7953"
             ],
             [
              0.7777777777777778,
              "#fb9f3a"
             ],
             [
              0.8888888888888888,
              "#fdca26"
             ],
             [
              1,
              "#f0f921"
             ]
            ],
            "type": "heatmap"
           }
          ],
          "histogram": [
           {
            "marker": {
             "pattern": {
              "fillmode": "overlay",
              "size": 10,
              "solidity": 0.2
             }
            },
            "type": "histogram"
           }
          ],
          "histogram2d": [
           {
            "colorbar": {
             "outlinewidth": 0,
             "ticks": ""
            },
            "colorscale": [
             [
              0,
              "#0d0887"
             ],
             [
              0.1111111111111111,
              "#46039f"
             ],
             [
              0.2222222222222222,
              "#7201a8"
             ],
             [
              0.3333333333333333,
              "#9c179e"
             ],
             [
              0.4444444444444444,
              "#bd3786"
             ],
             [
              0.5555555555555556,
              "#d8576b"
             ],
             [
              0.6666666666666666,
              "#ed7953"
             ],
             [
              0.7777777777777778,
              "#fb9f3a"
             ],
             [
              0.8888888888888888,
              "#fdca26"
             ],
             [
              1,
              "#f0f921"
             ]
            ],
            "type": "histogram2d"
           }
          ],
          "histogram2dcontour": [
           {
            "colorbar": {
             "outlinewidth": 0,
             "ticks": ""
            },
            "colorscale": [
             [
              0,
              "#0d0887"
             ],
             [
              0.1111111111111111,
              "#46039f"
             ],
             [
              0.2222222222222222,
              "#7201a8"
             ],
             [
              0.3333333333333333,
              "#9c179e"
             ],
             [
              0.4444444444444444,
              "#bd3786"
             ],
             [
              0.5555555555555556,
              "#d8576b"
             ],
             [
              0.6666666666666666,
              "#ed7953"
             ],
             [
              0.7777777777777778,
              "#fb9f3a"
             ],
             [
              0.8888888888888888,
              "#fdca26"
             ],
             [
              1,
              "#f0f921"
             ]
            ],
            "type": "histogram2dcontour"
           }
          ],
          "mesh3d": [
           {
            "colorbar": {
             "outlinewidth": 0,
             "ticks": ""
            },
            "type": "mesh3d"
           }
          ],
          "parcoords": [
           {
            "line": {
             "colorbar": {
              "outlinewidth": 0,
              "ticks": ""
             }
            },
            "type": "parcoords"
           }
          ],
          "pie": [
           {
            "automargin": true,
            "type": "pie"
           }
          ],
          "scatter": [
           {
            "fillpattern": {
             "fillmode": "overlay",
             "size": 10,
             "solidity": 0.2
            },
            "type": "scatter"
           }
          ],
          "scatter3d": [
           {
            "line": {
             "colorbar": {
              "outlinewidth": 0,
              "ticks": ""
             }
            },
            "marker": {
             "colorbar": {
              "outlinewidth": 0,
              "ticks": ""
             }
            },
            "type": "scatter3d"
           }
          ],
          "scattercarpet": [
           {
            "marker": {
             "colorbar": {
              "outlinewidth": 0,
              "ticks": ""
             }
            },
            "type": "scattercarpet"
           }
          ],
          "scattergeo": [
           {
            "marker": {
             "colorbar": {
              "outlinewidth": 0,
              "ticks": ""
             }
            },
            "type": "scattergeo"
           }
          ],
          "scattergl": [
           {
            "marker": {
             "colorbar": {
              "outlinewidth": 0,
              "ticks": ""
             }
            },
            "type": "scattergl"
           }
          ],
          "scattermap": [
           {
            "marker": {
             "colorbar": {
              "outlinewidth": 0,
              "ticks": ""
             }
            },
            "type": "scattermap"
           }
          ],
          "scattermapbox": [
           {
            "marker": {
             "colorbar": {
              "outlinewidth": 0,
              "ticks": ""
             }
            },
            "type": "scattermapbox"
           }
          ],
          "scatterpolar": [
           {
            "marker": {
             "colorbar": {
              "outlinewidth": 0,
              "ticks": ""
             }
            },
            "type": "scatterpolar"
           }
          ],
          "scatterpolargl": [
           {
            "marker": {
             "colorbar": {
              "outlinewidth": 0,
              "ticks": ""
             }
            },
            "type": "scatterpolargl"
           }
          ],
          "scatterternary": [
           {
            "marker": {
             "colorbar": {
              "outlinewidth": 0,
              "ticks": ""
             }
            },
            "type": "scatterternary"
           }
          ],
          "surface": [
           {
            "colorbar": {
             "outlinewidth": 0,
             "ticks": ""
            },
            "colorscale": [
             [
              0,
              "#0d0887"
             ],
             [
              0.1111111111111111,
              "#46039f"
             ],
             [
              0.2222222222222222,
              "#7201a8"
             ],
             [
              0.3333333333333333,
              "#9c179e"
             ],
             [
              0.4444444444444444,
              "#bd3786"
             ],
             [
              0.5555555555555556,
              "#d8576b"
             ],
             [
              0.6666666666666666,
              "#ed7953"
             ],
             [
              0.7777777777777778,
              "#fb9f3a"
             ],
             [
              0.8888888888888888,
              "#fdca26"
             ],
             [
              1,
              "#f0f921"
             ]
            ],
            "type": "surface"
           }
          ],
          "table": [
           {
            "cells": {
             "fill": {
              "color": "#EBF0F8"
             },
             "line": {
              "color": "white"
             }
            },
            "header": {
             "fill": {
              "color": "#C8D4E3"
             },
             "line": {
              "color": "white"
             }
            },
            "type": "table"
           }
          ]
         },
         "layout": {
          "annotationdefaults": {
           "arrowcolor": "#2a3f5f",
           "arrowhead": 0,
           "arrowwidth": 1
          },
          "autotypenumbers": "strict",
          "coloraxis": {
           "colorbar": {
            "outlinewidth": 0,
            "ticks": ""
           }
          },
          "colorscale": {
           "diverging": [
            [
             0,
             "#8e0152"
            ],
            [
             0.1,
             "#c51b7d"
            ],
            [
             0.2,
             "#de77ae"
            ],
            [
             0.3,
             "#f1b6da"
            ],
            [
             0.4,
             "#fde0ef"
            ],
            [
             0.5,
             "#f7f7f7"
            ],
            [
             0.6,
             "#e6f5d0"
            ],
            [
             0.7,
             "#b8e186"
            ],
            [
             0.8,
             "#7fbc41"
            ],
            [
             0.9,
             "#4d9221"
            ],
            [
             1,
             "#276419"
            ]
           ],
           "sequential": [
            [
             0,
             "#0d0887"
            ],
            [
             0.1111111111111111,
             "#46039f"
            ],
            [
             0.2222222222222222,
             "#7201a8"
            ],
            [
             0.3333333333333333,
             "#9c179e"
            ],
            [
             0.4444444444444444,
             "#bd3786"
            ],
            [
             0.5555555555555556,
             "#d8576b"
            ],
            [
             0.6666666666666666,
             "#ed7953"
            ],
            [
             0.7777777777777778,
             "#fb9f3a"
            ],
            [
             0.8888888888888888,
             "#fdca26"
            ],
            [
             1,
             "#f0f921"
            ]
           ],
           "sequentialminus": [
            [
             0,
             "#0d0887"
            ],
            [
             0.1111111111111111,
             "#46039f"
            ],
            [
             0.2222222222222222,
             "#7201a8"
            ],
            [
             0.3333333333333333,
             "#9c179e"
            ],
            [
             0.4444444444444444,
             "#bd3786"
            ],
            [
             0.5555555555555556,
             "#d8576b"
            ],
            [
             0.6666666666666666,
             "#ed7953"
            ],
            [
             0.7777777777777778,
             "#fb9f3a"
            ],
            [
             0.8888888888888888,
             "#fdca26"
            ],
            [
             1,
             "#f0f921"
            ]
           ]
          },
          "colorway": [
           "#636efa",
           "#EF553B",
           "#00cc96",
           "#ab63fa",
           "#FFA15A",
           "#19d3f3",
           "#FF6692",
           "#B6E880",
           "#FF97FF",
           "#FECB52"
          ],
          "font": {
           "color": "#2a3f5f"
          },
          "geo": {
           "bgcolor": "white",
           "lakecolor": "white",
           "landcolor": "white",
           "showlakes": true,
           "showland": true,
           "subunitcolor": "#C8D4E3"
          },
          "hoverlabel": {
           "align": "left"
          },
          "hovermode": "closest",
          "mapbox": {
           "style": "light"
          },
          "paper_bgcolor": "white",
          "plot_bgcolor": "white",
          "polar": {
           "angularaxis": {
            "gridcolor": "#EBF0F8",
            "linecolor": "#EBF0F8",
            "ticks": ""
           },
           "bgcolor": "white",
           "radialaxis": {
            "gridcolor": "#EBF0F8",
            "linecolor": "#EBF0F8",
            "ticks": ""
           }
          },
          "scene": {
           "xaxis": {
            "backgroundcolor": "white",
            "gridcolor": "#DFE8F3",
            "gridwidth": 2,
            "linecolor": "#EBF0F8",
            "showbackground": true,
            "ticks": "",
            "zerolinecolor": "#EBF0F8"
           },
           "yaxis": {
            "backgroundcolor": "white",
            "gridcolor": "#DFE8F3",
            "gridwidth": 2,
            "linecolor": "#EBF0F8",
            "showbackground": true,
            "ticks": "",
            "zerolinecolor": "#EBF0F8"
           },
           "zaxis": {
            "backgroundcolor": "white",
            "gridcolor": "#DFE8F3",
            "gridwidth": 2,
            "linecolor": "#EBF0F8",
            "showbackground": true,
            "ticks": "",
            "zerolinecolor": "#EBF0F8"
           }
          },
          "shapedefaults": {
           "line": {
            "color": "#2a3f5f"
           }
          },
          "ternary": {
           "aaxis": {
            "gridcolor": "#DFE8F3",
            "linecolor": "#A2B1C6",
            "ticks": ""
           },
           "baxis": {
            "gridcolor": "#DFE8F3",
            "linecolor": "#A2B1C6",
            "ticks": ""
           },
           "bgcolor": "white",
           "caxis": {
            "gridcolor": "#DFE8F3",
            "linecolor": "#A2B1C6",
            "ticks": ""
           }
          },
          "title": {
           "x": 0.05
          },
          "xaxis": {
           "automargin": true,
           "gridcolor": "#EBF0F8",
           "linecolor": "#EBF0F8",
           "ticks": "",
           "title": {
            "standoff": 15
           },
           "zerolinecolor": "#EBF0F8",
           "zerolinewidth": 2
          },
          "yaxis": {
           "automargin": true,
           "gridcolor": "#EBF0F8",
           "linecolor": "#EBF0F8",
           "ticks": "",
           "title": {
            "standoff": 15
           },
           "zerolinecolor": "#EBF0F8",
           "zerolinewidth": 2
          }
         }
        },
        "title": {
         "text": "Distribution of Target (Daily Forward Excess Returns)"
        },
        "xaxis": {
         "anchor": "y",
         "domain": [
          0,
          1
         ],
         "title": {
          "text": "Excess Return"
         }
        },
        "yaxis": {
         "anchor": "x",
         "domain": [
          0,
          1
         ],
         "title": {
          "text": "count"
         }
        }
       }
      }
     },
     "metadata": {},
     "output_type": "display_data"
    },
    {
     "data": {
      "application/vnd.plotly.v1+json": {
       "config": {
        "plotlyServerURL": "https://plot.ly"
       },
       "data": [
        {
         "hovertemplate": "Date ID=%{x}<br>Excess Return=%{y}<extra></extra>",
         "legendgroup": "",
         "line": {
          "color": "#636efa",
          "dash": "solid"
         },
         "marker": {
          "symbol": "circle"
         },
         "mode": "lines",
         "name": "",
         "showlegend": false,
         "type": "scattergl",
         "x": {
          "bdata": "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",
          "dtype": "i2"
         },
         "xaxis": "x",
         "y": {
          "bdata": "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",
          "dtype": "f8"
         },
         "yaxis": "y"
        }
       ],
       "layout": {
        "legend": {
         "tracegroupgap": 0
        },
        "template": {
         "data": {
          "bar": [
           {
            "error_x": {
             "color": "#2a3f5f"
            },
            "error_y": {
             "color": "#2a3f5f"
            },
            "marker": {
             "line": {
              "color": "white",
              "width": 0.5
             },
             "pattern": {
              "fillmode": "overlay",
              "size": 10,
              "solidity": 0.2
             }
            },
            "type": "bar"
           }
          ],
          "barpolar": [
           {
            "marker": {
             "line": {
              "color": "white",
              "width": 0.5
             },
             "pattern": {
              "fillmode": "overlay",
              "size": 10,
              "solidity": 0.2
             }
            },
            "type": "barpolar"
           }
          ],
          "carpet": [
           {
            "aaxis": {
             "endlinecolor": "#2a3f5f",
             "gridcolor": "#C8D4E3",
             "linecolor": "#C8D4E3",
             "minorgridcolor": "#C8D4E3",
             "startlinecolor": "#2a3f5f"
            },
            "baxis": {
             "endlinecolor": "#2a3f5f",
             "gridcolor": "#C8D4E3",
             "linecolor": "#C8D4E3",
             "minorgridcolor": "#C8D4E3",
             "startlinecolor": "#2a3f5f"
            },
            "type": "carpet"
           }
          ],
          "choropleth": [
           {
            "colorbar": {
             "outlinewidth": 0,
             "ticks": ""
            },
            "type": "choropleth"
           }
          ],
          "contour": [
           {
            "colorbar": {
             "outlinewidth": 0,
             "ticks": ""
            },
            "colorscale": [
             [
              0,
              "#0d0887"
             ],
             [
              0.1111111111111111,
              "#46039f"
             ],
             [
              0.2222222222222222,
              "#7201a8"
             ],
             [
              0.3333333333333333,
              "#9c179e"
             ],
             [
              0.4444444444444444,
              "#bd3786"
             ],
             [
              0.5555555555555556,
              "#d8576b"
             ],
             [
              0.6666666666666666,
              "#ed7953"
             ],
             [
              0.7777777777777778,
              "#fb9f3a"
             ],
             [
              0.8888888888888888,
              "#fdca26"
             ],
             [
              1,
              "#f0f921"
             ]
            ],
            "type": "contour"
           }
          ],
          "contourcarpet": [
           {
            "colorbar": {
             "outlinewidth": 0,
             "ticks": ""
            },
            "type": "contourcarpet"
           }
          ],
          "heatmap": [
           {
            "colorbar": {
             "outlinewidth": 0,
             "ticks": ""
            },
            "colorscale": [
             [
              0,
              "#0d0887"
             ],
             [
              0.1111111111111111,
              "#46039f"
             ],
             [
              0.2222222222222222,
              "#7201a8"
             ],
             [
              0.3333333333333333,
              "#9c179e"
             ],
             [
              0.4444444444444444,
              "#bd3786"
             ],
             [
              0.5555555555555556,
              "#d8576b"
             ],
             [
              0.6666666666666666,
              "#ed7953"
             ],
             [
              0.7777777777777778,
              "#fb9f3a"
             ],
             [
              0.8888888888888888,
              "#fdca26"
             ],
             [
              1,
              "#f0f921"
             ]
            ],
            "type": "heatmap"
           }
          ],
          "histogram": [
           {
            "marker": {
             "pattern": {
              "fillmode": "overlay",
              "size": 10,
              "solidity": 0.2
             }
            },
            "type": "histogram"
           }
          ],
          "histogram2d": [
           {
            "colorbar": {
             "outlinewidth": 0,
             "ticks": ""
            },
            "colorscale": [
             [
              0,
              "#0d0887"
             ],
             [
              0.1111111111111111,
              "#46039f"
             ],
             [
              0.2222222222222222,
              "#7201a8"
             ],
             [
              0.3333333333333333,
              "#9c179e"
             ],
             [
              0.4444444444444444,
              "#bd3786"
             ],
             [
              0.5555555555555556,
              "#d8576b"
             ],
             [
              0.6666666666666666,
              "#ed7953"
             ],
             [
              0.7777777777777778,
              "#fb9f3a"
             ],
             [
              0.8888888888888888,
              "#fdca26"
             ],
             [
              1,
              "#f0f921"
             ]
            ],
            "type": "histogram2d"
           }
          ],
          "histogram2dcontour": [
           {
            "colorbar": {
             "outlinewidth": 0,
             "ticks": ""
            },
            "colorscale": [
             [
              0,
              "#0d0887"
             ],
             [
              0.1111111111111111,
              "#46039f"
             ],
             [
              0.2222222222222222,
              "#7201a8"
             ],
             [
              0.3333333333333333,
              "#9c179e"
             ],
             [
              0.4444444444444444,
              "#bd3786"
             ],
             [
              0.5555555555555556,
              "#d8576b"
             ],
             [
              0.6666666666666666,
              "#ed7953"
             ],
             [
              0.7777777777777778,
              "#fb9f3a"
             ],
             [
              0.8888888888888888,
              "#fdca26"
             ],
             [
              1,
              "#f0f921"
             ]
            ],
            "type": "histogram2dcontour"
           }
          ],
          "mesh3d": [
           {
            "colorbar": {
             "outlinewidth": 0,
             "ticks": ""
            },
            "type": "mesh3d"
           }
          ],
          "parcoords": [
           {
            "line": {
             "colorbar": {
              "outlinewidth": 0,
              "ticks": ""
             }
            },
            "type": "parcoords"
           }
          ],
          "pie": [
           {
            "automargin": true,
            "type": "pie"
           }
          ],
          "scatter": [
           {
            "fillpattern": {
             "fillmode": "overlay",
             "size": 10,
             "solidity": 0.2
            },
            "type": "scatter"
           }
          ],
          "scatter3d": [
           {
            "line": {
             "colorbar": {
              "outlinewidth": 0,
              "ticks": ""
             }
            },
            "marker": {
             "colorbar": {
              "outlinewidth": 0,
              "ticks": ""
             }
            },
            "type": "scatter3d"
           }
          ],
          "scattercarpet": [
           {
            "marker": {
             "colorbar": {
              "outlinewidth": 0,
              "ticks": ""
             }
            },
            "type": "scattercarpet"
           }
          ],
          "scattergeo": [
           {
            "marker": {
             "colorbar": {
              "outlinewidth": 0,
              "ticks": ""
             }
            },
            "type": "scattergeo"
           }
          ],
          "scattergl": [
           {
            "marker": {
             "colorbar": {
              "outlinewidth": 0,
              "ticks": ""
             }
            },
            "type": "scattergl"
           }
          ],
          "scattermap": [
           {
            "marker": {
             "colorbar": {
              "outlinewidth": 0,
              "ticks": ""
             }
            },
            "type": "scattermap"
           }
          ],
          "scattermapbox": [
           {
            "marker": {
             "colorbar": {
              "outlinewidth": 0,
              "ticks": ""
             }
            },
            "type": "scattermapbox"
           }
          ],
          "scatterpolar": [
           {
            "marker": {
             "colorbar": {
              "outlinewidth": 0,
              "ticks": ""
             }
            },
            "type": "scatterpolar"
           }
          ],
          "scatterpolargl": [
           {
            "marker": {
             "colorbar": {
              "outlinewidth": 0,
              "ticks": ""
             }
            },
            "type": "scatterpolargl"
           }
          ],
          "scatterternary": [
           {
            "marker": {
             "colorbar": {
              "outlinewidth": 0,
              "ticks": ""
             }
            },
            "type": "scatterternary"
           }
          ],
          "surface": [
           {
            "colorbar": {
             "outlinewidth": 0,
             "ticks": ""
            },
            "colorscale": [
             [
              0,
              "#0d0887"
             ],
             [
              0.1111111111111111,
              "#46039f"
             ],
             [
              0.2222222222222222,
              "#7201a8"
             ],
             [
              0.3333333333333333,
              "#9c179e"
             ],
             [
              0.4444444444444444,
              "#bd3786"
             ],
             [
              0.5555555555555556,
              "#d8576b"
             ],
             [
              0.6666666666666666,
              "#ed7953"
             ],
             [
              0.7777777777777778,
              "#fb9f3a"
             ],
             [
              0.8888888888888888,
              "#fdca26"
             ],
             [
              1,
              "#f0f921"
             ]
            ],
            "type": "surface"
           }
          ],
          "table": [
           {
            "cells": {
             "fill": {
              "color": "#EBF0F8"
             },
             "line": {
              "color": "white"
             }
            },
            "header": {
             "fill": {
              "color": "#C8D4E3"
             },
             "line": {
              "color": "white"
             }
            },
            "type": "table"
           }
          ]
         },
         "layout": {
          "annotationdefaults": {
           "arrowcolor": "#2a3f5f",
           "arrowhead": 0,
           "arrowwidth": 1
          },
          "autotypenumbers": "strict",
          "coloraxis": {
           "colorbar": {
            "outlinewidth": 0,
            "ticks": ""
           }
          },
          "colorscale": {
           "diverging": [
            [
             0,
             "#8e0152"
            ],
            [
             0.1,
             "#c51b7d"
            ],
            [
             0.2,
             "#de77ae"
            ],
            [
             0.3,
             "#f1b6da"
            ],
            [
             0.4,
             "#fde0ef"
            ],
            [
             0.5,
             "#f7f7f7"
            ],
            [
             0.6,
             "#e6f5d0"
            ],
            [
             0.7,
             "#b8e186"
            ],
            [
             0.8,
             "#7fbc41"
            ],
            [
             0.9,
             "#4d9221"
            ],
            [
             1,
             "#276419"
            ]
           ],
           "sequential": [
            [
             0,
             "#0d0887"
            ],
            [
             0.1111111111111111,
             "#46039f"
            ],
            [
             0.2222222222222222,
             "#7201a8"
            ],
            [
             0.3333333333333333,
             "#9c179e"
            ],
            [
             0.4444444444444444,
             "#bd3786"
            ],
            [
             0.5555555555555556,
             "#d8576b"
            ],
            [
             0.6666666666666666,
             "#ed7953"
            ],
            [
             0.7777777777777778,
             "#fb9f3a"
            ],
            [
             0.8888888888888888,
             "#fdca26"
            ],
            [
             1,
             "#f0f921"
            ]
           ],
           "sequentialminus": [
            [
             0,
             "#0d0887"
            ],
            [
             0.1111111111111111,
             "#46039f"
            ],
            [
             0.2222222222222222,
             "#7201a8"
            ],
            [
             0.3333333333333333,
             "#9c179e"
            ],
            [
             0.4444444444444444,
             "#bd3786"
            ],
            [
             0.5555555555555556,
             "#d8576b"
            ],
            [
             0.6666666666666666,
             "#ed7953"
            ],
            [
             0.7777777777777778,
             "#fb9f3a"
            ],
            [
             0.8888888888888888,
             "#fdca26"
            ],
            [
             1,
             "#f0f921"
            ]
           ]
          },
          "colorway": [
           "#636efa",
           "#EF553B",
           "#00cc96",
           "#ab63fa",
           "#FFA15A",
           "#19d3f3",
           "#FF6692",
           "#B6E880",
           "#FF97FF",
           "#FECB52"
          ],
          "font": {
           "color": "#2a3f5f"
          },
          "geo": {
           "bgcolor": "white",
           "lakecolor": "white",
           "landcolor": "white",
           "showlakes": true,
           "showland": true,
           "subunitcolor": "#C8D4E3"
          },
          "hoverlabel": {
           "align": "left"
          },
          "hovermode": "closest",
          "mapbox": {
           "style": "light"
          },
          "paper_bgcolor": "white",
          "plot_bgcolor": "white",
          "polar": {
           "angularaxis": {
            "gridcolor": "#EBF0F8",
            "linecolor": "#EBF0F8",
            "ticks": ""
           },
           "bgcolor": "white",
           "radialaxis": {
            "gridcolor": "#EBF0F8",
            "linecolor": "#EBF0F8",
            "ticks": ""
           }
          },
          "scene": {
           "xaxis": {
            "backgroundcolor": "white",
            "gridcolor": "#DFE8F3",
            "gridwidth": 2,
            "linecolor": "#EBF0F8",
            "showbackground": true,
            "ticks": "",
            "zerolinecolor": "#EBF0F8"
           },
           "yaxis": {
            "backgroundcolor": "white",
            "gridcolor": "#DFE8F3",
            "gridwidth": 2,
            "linecolor": "#EBF0F8",
            "showbackground": true,
            "ticks": "",
            "zerolinecolor": "#EBF0F8"
           },
           "zaxis": {
            "backgroundcolor": "white",
            "gridcolor": "#DFE8F3",
            "gridwidth": 2,
            "linecolor": "#EBF0F8",
            "showbackground": true,
            "ticks": "",
            "zerolinecolor": "#EBF0F8"
           }
          },
          "shapedefaults": {
           "line": {
            "color": "#2a3f5f"
           }
          },
          "ternary": {
           "aaxis": {
            "gridcolor": "#DFE8F3",
            "linecolor": "#A2B1C6",
            "ticks": ""
           },
           "baxis": {
            "gridcolor": "#DFE8F3",
            "linecolor": "#A2B1C6",
            "ticks": ""
           },
           "bgcolor": "white",
           "caxis": {
            "gridcolor": "#DFE8F3",
            "linecolor": "#A2B1C6",
            "ticks": ""
           }
          },
          "title": {
           "x": 0.05
          },
          "xaxis": {
           "automargin": true,
           "gridcolor": "#EBF0F8",
           "linecolor": "#EBF0F8",
           "ticks": "",
           "title": {
            "standoff": 15
           },
           "zerolinecolor": "#EBF0F8",
           "zerolinewidth": 2
          },
          "yaxis": {
           "automargin": true,
           "gridcolor": "#EBF0F8",
           "linecolor": "#EBF0F8",
           "ticks": "",
           "title": {
            "standoff": 15
           },
           "zerolinecolor": "#EBF0F8",
           "zerolinewidth": 2
          }
         }
        },
        "title": {
         "text": "Target (Daily Forward Excess Returns) Over Time"
        },
        "xaxis": {
         "anchor": "y",
         "domain": [
          0,
          1
         ],
         "title": {
          "text": "Date ID"
         }
        },
        "yaxis": {
         "anchor": "x",
         "domain": [
          0,
          1
         ],
         "title": {
          "text": "Excess Return"
         }
        }
       }
      }
     },
     "metadata": {},
     "output_type": "display_data"
    },
    {
     "name": "stdout",
     "output_type": "stream",
     "text": [
      "Top 20 Most Positively Correlated Features with Target:\n",
      "shape: (20, 2)\n",
      "┌─────────┬─────────────┐\n",
      "│ feature ┆ correlation │\n",
      "│ ---     ┆ ---         │\n",
      "│ str     ┆ f64         │\n",
      "╞═════════╪═════════════╡\n",
      "│ S5      ┆ 0.05374     │\n",
      "│ M3      ┆ 0.053675    │\n",
      "│ V13     ┆ 0.053658    │\n",
      "│ M1      ┆ 0.04381     │\n",
      "│ P2      ┆ 0.043135    │\n",
      "│ …       ┆ …           │\n",
      "│ M6      ┆ 0.018583    │\n",
      "│ S11     ┆ 0.018296    │\n",
      "│ D7      ┆ 0.018131    │\n",
      "│ P4      ┆ 0.01737     │\n",
      "│ E12     ┆ 0.017227    │\n",
      "└─────────┴─────────────┘\n",
      "\n",
      "Top 20 Most Negatively Correlated Features with Target:\n",
      "shape: (20, 2)\n",
      "┌─────────┬─────────────┐\n",
      "│ feature ┆ correlation │\n",
      "│ ---     ┆ ---         │\n",
      "│ str     ┆ f64         │\n",
      "╞═════════╪═════════════╡\n",
      "│ P10     ┆ -0.074954   │\n",
      "│ P8      ┆ -0.068035   │\n",
      "│ E3      ┆ -0.053242   │\n",
      "│ P12     ┆ -0.048319   │\n",
      "│ P11     ┆ -0.045914   │\n",
      "│ …       ┆ …           │\n",
      "│ P7      ┆ -0.021257   │\n",
      "│ P6      ┆ -0.020146   │\n",
      "│ M10     ┆ -0.018479   │\n",
      "│ V1      ┆ -0.017795   │\n",
      "│ V8      ┆ -0.01763    │\n",
      "└─────────┴─────────────┘\n"
     ]
    },
    {
     "name": "stderr",
     "output_type": "stream",
     "text": [
      "/tmp/ipykernel_23050/753534165.py:113: DataOrientationWarning:\n",
      "\n",
      "Row orientation inferred during DataFrame construction. Explicitly specify the orientation by passing `orient=\"row\"` to silence this warning.\n",
      "\n"
     ]
    },
    {
     "data": {
      "application/vnd.plotly.v1+json": {
       "config": {
        "plotlyServerURL": "https://plot.ly"
       },
       "data": [
        {
         "hovertemplate": "Pearson Correlation=%{marker.color}<br>Feature=%{y}<extra></extra>",
         "legendgroup": "",
         "marker": {
          "color": {
           "bdata": "XN5Q8c+Dqz9m/4LqTHurP70LbJYDeas/5XOM3kJupj+kousdxxWmP1VD91A2WaE/AVE6RcNMoT+4O7kJp8KgP+TIRAhki54/ozkj1KWvmz/ljqDCeRCaP5srEhPhjJY/AGKGoh/VlT+3Yci39DGVP/3b4gORJpU/PKQ+Wl4Hkz9ylU94LrySP0TGH+0EkZI/Vl8NL3vJkT8WfbZ9FaSRP0RM0WY2MLO/q5UzFb1qsb/uZm5Kl0Krvw0hOV1Pvai/D5Yd9PuBp7/WizneM1+lv7bHGEHcN6W/iNrV8bWgoL+Y9Uy1Cpigv4G8ZXEsKaC/doc8NizBnb97facI1Hidv8obb7Cclpq/K0uNp6+NmL/wV+U4UFCWv8gJeMtmxJW/9kSlvC+hlL8ozEJaG+ySv96C5WffOJK/s6ean38Nkr8=",
           "dtype": "f8"
          },
          "coloraxis": "coloraxis",
          "pattern": {
           "shape": ""
          }
         },
         "name": "",
         "orientation": "h",
         "showlegend": false,
         "textposition": "auto",
         "type": "bar",
         "x": {
          "bdata": "XN5Q8c+Dqz9m/4LqTHurP70LbJYDeas/5XOM3kJupj+kousdxxWmP1VD91A2WaE/AVE6RcNMoT+4O7kJp8KgP+TIRAhki54/ozkj1KWvmz/ljqDCeRCaP5srEhPhjJY/AGKGoh/VlT+3Yci39DGVP/3b4gORJpU/PKQ+Wl4Hkz9ylU94LrySP0TGH+0EkZI/Vl8NL3vJkT8WfbZ9FaSRP0RM0WY2MLO/q5UzFb1qsb/uZm5Kl0Krvw0hOV1Pvai/D5Yd9PuBp7/WizneM1+lv7bHGEHcN6W/iNrV8bWgoL+Y9Uy1Cpigv4G8ZXEsKaC/doc8NizBnb97facI1Hidv8obb7Cclpq/K0uNp6+NmL/wV+U4UFCWv8gJeMtmxJW/9kSlvC+hlL8ozEJaG+ySv96C5WffOJK/s6ean38Nkr8=",
          "dtype": "f8"
         },
         "xaxis": "x",
         "y": [
          "S5",
          "M3",
          "V13",
          "M1",
          "P2",
          "V7",
          "P1",
          "V10",
          "V9",
          "E8",
          "S6",
          "M17",
          "E19",
          "S4",
          "M2",
          "M6",
          "S11",
          "D7",
          "P4",
          "E12",
          "P10",
          "P8",
          "E3",
          "P12",
          "P11",
          "P3",
          "E2",
          "E7",
          "E20",
          "E10",
          "P5",
          "M4",
          "S2",
          "S8",
          "M12",
          "P7",
          "P6",
          "M10",
          "V1",
          "V8"
         ],
         "yaxis": "y"
        }
       ],
       "layout": {
        "barmode": "relative",
        "coloraxis": {
         "colorbar": {
          "title": {
           "text": "Pearson Correlation"
          }
         },
         "colorscale": [
          [
           0,
           "rgb(5,48,97)"
          ],
          [
           0.1,
           "rgb(33,102,172)"
          ],
          [
           0.2,
           "rgb(67,147,195)"
          ],
          [
           0.3,
           "rgb(146,197,222)"
          ],
          [
           0.4,
           "rgb(209,229,240)"
          ],
          [
           0.5,
           "rgb(247,247,247)"
          ],
          [
           0.6,
           "rgb(253,219,199)"
          ],
          [
           0.7,
           "rgb(244,165,130)"
          ],
          [
           0.8,
           "rgb(214,96,77)"
          ],
          [
           0.9,
           "rgb(178,24,43)"
          ],
          [
           1,
           "rgb(103,0,31)"
          ]
         ]
        },
        "height": 800,
        "legend": {
         "tracegroupgap": 0
        },
        "template": {
         "data": {
          "bar": [
           {
            "error_x": {
             "color": "#2a3f5f"
            },
            "error_y": {
             "color": "#2a3f5f"
            },
            "marker": {
             "line": {
              "color": "white",
              "width": 0.5
             },
             "pattern": {
              "fillmode": "overlay",
              "size": 10,
              "solidity": 0.2
             }
            },
            "type": "bar"
           }
          ],
          "barpolar": [
           {
            "marker": {
             "line": {
              "color": "white",
              "width": 0.5
             },
             "pattern": {
              "fillmode": "overlay",
              "size": 10,
              "solidity": 0.2
             }
            },
            "type": "barpolar"
           }
          ],
          "carpet": [
           {
            "aaxis": {
             "endlinecolor": "#2a3f5f",
             "gridcolor": "#C8D4E3",
             "linecolor": "#C8D4E3",
             "minorgridcolor": "#C8D4E3",
             "startlinecolor": "#2a3f5f"
            },
            "baxis": {
             "endlinecolor": "#2a3f5f",
             "gridcolor": "#C8D4E3",
             "linecolor": "#C8D4E3",
             "minorgridcolor": "#C8D4E3",
             "startlinecolor": "#2a3f5f"
            },
            "type": "carpet"
           }
          ],
          "choropleth": [
           {
            "colorbar": {
             "outlinewidth": 0,
             "ticks": ""
            },
            "type": "choropleth"
           }
          ],
          "contour": [
           {
            "colorbar": {
             "outlinewidth": 0,
             "ticks": ""
            },
            "colorscale": [
             [
              0,
              "#0d0887"
             ],
             [
              0.1111111111111111,
              "#46039f"
             ],
             [
              0.2222222222222222,
              "#7201a8"
             ],
             [
              0.3333333333333333,
              "#9c179e"
             ],
             [
              0.4444444444444444,
              "#bd3786"
             ],
             [
              0.5555555555555556,
              "#d8576b"
             ],
             [
              0.6666666666666666,
              "#ed7953"
             ],
             [
              0.7777777777777778,
              "#fb9f3a"
             ],
             [
              0.8888888888888888,
              "#fdca26"
             ],
             [
              1,
              "#f0f921"
             ]
            ],
            "type": "contour"
           }
          ],
          "contourcarpet": [
           {
            "colorbar": {
             "outlinewidth": 0,
             "ticks": ""
            },
            "type": "contourcarpet"
           }
          ],
          "heatmap": [
           {
            "colorbar": {
             "outlinewidth": 0,
             "ticks": ""
            },
            "colorscale": [
             [
              0,
              "#0d0887"
             ],
             [
              0.1111111111111111,
              "#46039f"
             ],
             [
              0.2222222222222222,
              "#7201a8"
             ],
             [
              0.3333333333333333,
              "#9c179e"
             ],
             [
              0.4444444444444444,
              "#bd3786"
             ],
             [
              0.5555555555555556,
              "#d8576b"
             ],
             [
              0.6666666666666666,
              "#ed7953"
             ],
             [
              0.7777777777777778,
              "#fb9f3a"
             ],
             [
              0.8888888888888888,
              "#fdca26"
             ],
             [
              1,
              "#f0f921"
             ]
            ],
            "type": "heatmap"
           }
          ],
          "histogram": [
           {
            "marker": {
             "pattern": {
              "fillmode": "overlay",
              "size": 10,
              "solidity": 0.2
             }
            },
            "type": "histogram"
           }
          ],
          "histogram2d": [
           {
            "colorbar": {
             "outlinewidth": 0,
             "ticks": ""
            },
            "colorscale": [
             [
              0,
              "#0d0887"
             ],
             [
              0.1111111111111111,
              "#46039f"
             ],
             [
              0.2222222222222222,
              "#7201a8"
             ],
             [
              0.3333333333333333,
              "#9c179e"
             ],
             [
              0.4444444444444444,
              "#bd3786"
             ],
             [
              0.5555555555555556,
              "#d8576b"
             ],
             [
              0.6666666666666666,
              "#ed7953"
             ],
             [
              0.7777777777777778,
              "#fb9f3a"
             ],
             [
              0.8888888888888888,
              "#fdca26"
             ],
             [
              1,
              "#f0f921"
             ]
            ],
            "type": "histogram2d"
           }
          ],
          "histogram2dcontour": [
           {
            "colorbar": {
             "outlinewidth": 0,
             "ticks": ""
            },
            "colorscale": [
             [
              0,
              "#0d0887"
             ],
             [
              0.1111111111111111,
              "#46039f"
             ],
             [
              0.2222222222222222,
              "#7201a8"
             ],
             [
              0.3333333333333333,
              "#9c179e"
             ],
             [
              0.4444444444444444,
              "#bd3786"
             ],
             [
              0.5555555555555556,
              "#d8576b"
             ],
             [
              0.6666666666666666,
              "#ed7953"
             ],
             [
              0.7777777777777778,
              "#fb9f3a"
             ],
             [
              0.8888888888888888,
              "#fdca26"
             ],
             [
              1,
              "#f0f921"
             ]
            ],
            "type": "histogram2dcontour"
           }
          ],
          "mesh3d": [
           {
            "colorbar": {
             "outlinewidth": 0,
             "ticks": ""
            },
            "type": "mesh3d"
           }
          ],
          "parcoords": [
           {
            "line": {
             "colorbar": {
              "outlinewidth": 0,
              "ticks": ""
             }
            },
            "type": "parcoords"
           }
          ],
          "pie": [
           {
            "automargin": true,
            "type": "pie"
           }
          ],
          "scatter": [
           {
            "fillpattern": {
             "fillmode": "overlay",
             "size": 10,
             "solidity": 0.2
            },
            "type": "scatter"
           }
          ],
          "scatter3d": [
           {
            "line": {
             "colorbar": {
              "outlinewidth": 0,
              "ticks": ""
             }
            },
            "marker": {
             "colorbar": {
              "outlinewidth": 0,
              "ticks": ""
             }
            },
            "type": "scatter3d"
           }
          ],
          "scattercarpet": [
           {
            "marker": {
             "colorbar": {
              "outlinewidth": 0,
              "ticks": ""
             }
            },
            "type": "scattercarpet"
           }
          ],
          "scattergeo": [
           {
            "marker": {
             "colorbar": {
              "outlinewidth": 0,
              "ticks": ""
             }
            },
            "type": "scattergeo"
           }
          ],
          "scattergl": [
           {
            "marker": {
             "colorbar": {
              "outlinewidth": 0,
              "ticks": ""
             }
            },
            "type": "scattergl"
           }
          ],
          "scattermap": [
           {
            "marker": {
             "colorbar": {
              "outlinewidth": 0,
              "ticks": ""
             }
            },
            "type": "scattermap"
           }
          ],
          "scattermapbox": [
           {
            "marker": {
             "colorbar": {
              "outlinewidth": 0,
              "ticks": ""
             }
            },
            "type": "scattermapbox"
           }
          ],
          "scatterpolar": [
           {
            "marker": {
             "colorbar": {
              "outlinewidth": 0,
              "ticks": ""
             }
            },
            "type": "scatterpolar"
           }
          ],
          "scatterpolargl": [
           {
            "marker": {
             "colorbar": {
              "outlinewidth": 0,
              "ticks": ""
             }
            },
            "type": "scatterpolargl"
           }
          ],
          "scatterternary": [
           {
            "marker": {
             "colorbar": {
              "outlinewidth": 0,
              "ticks": ""
             }
            },
            "type": "scatterternary"
           }
          ],
          "surface": [
           {
            "colorbar": {
             "outlinewidth": 0,
             "ticks": ""
            },
            "colorscale": [
             [
              0,
              "#0d0887"
             ],
             [
              0.1111111111111111,
              "#46039f"
             ],
             [
              0.2222222222222222,
              "#7201a8"
             ],
             [
              0.3333333333333333,
              "#9c179e"
             ],
             [
              0.4444444444444444,
              "#bd3786"
             ],
             [
              0.5555555555555556,
              "#d8576b"
             ],
             [
              0.6666666666666666,
              "#ed7953"
             ],
             [
              0.7777777777777778,
              "#fb9f3a"
             ],
             [
              0.8888888888888888,
              "#fdca26"
             ],
             [
              1,
              "#f0f921"
             ]
            ],
            "type": "surface"
           }
          ],
          "table": [
           {
            "cells": {
             "fill": {
              "color": "#EBF0F8"
             },
             "line": {
              "color": "white"
             }
            },
            "header": {
             "fill": {
              "color": "#C8D4E3"
             },
             "line": {
              "color": "white"
             }
            },
            "type": "table"
           }
          ]
         },
         "layout": {
          "annotationdefaults": {
           "arrowcolor": "#2a3f5f",
           "arrowhead": 0,
           "arrowwidth": 1
          },
          "autotypenumbers": "strict",
          "coloraxis": {
           "colorbar": {
            "outlinewidth": 0,
            "ticks": ""
           }
          },
          "colorscale": {
           "diverging": [
            [
             0,
             "#8e0152"
            ],
            [
             0.1,
             "#c51b7d"
            ],
            [
             0.2,
             "#de77ae"
            ],
            [
             0.3,
             "#f1b6da"
            ],
            [
             0.4,
             "#fde0ef"
            ],
            [
             0.5,
             "#f7f7f7"
            ],
            [
             0.6,
             "#e6f5d0"
            ],
            [
             0.7,
             "#b8e186"
            ],
            [
             0.8,
             "#7fbc41"
            ],
            [
             0.9,
             "#4d9221"
            ],
            [
             1,
             "#276419"
            ]
           ],
           "sequential": [
            [
             0,
             "#0d0887"
            ],
            [
             0.1111111111111111,
             "#46039f"
            ],
            [
             0.2222222222222222,
             "#7201a8"
            ],
            [
             0.3333333333333333,
             "#9c179e"
            ],
            [
             0.4444444444444444,
             "#bd3786"
            ],
            [
             0.5555555555555556,
             "#d8576b"
            ],
            [
             0.6666666666666666,
             "#ed7953"
            ],
            [
             0.7777777777777778,
             "#fb9f3a"
            ],
            [
             0.8888888888888888,
             "#fdca26"
            ],
            [
             1,
             "#f0f921"
            ]
           ],
           "sequentialminus": [
            [
             0,
             "#0d0887"
            ],
            [
             0.1111111111111111,
             "#46039f"
            ],
            [
             0.2222222222222222,
             "#7201a8"
            ],
            [
             0.3333333333333333,
             "#9c179e"
            ],
            [
             0.4444444444444444,
             "#bd3786"
            ],
            [
             0.5555555555555556,
             "#d8576b"
            ],
            [
             0.6666666666666666,
             "#ed7953"
            ],
            [
             0.7777777777777778,
             "#fb9f3a"
            ],
            [
             0.8888888888888888,
             "#fdca26"
            ],
            [
             1,
             "#f0f921"
            ]
           ]
          },
          "colorway": [
           "#636efa",
           "#EF553B",
           "#00cc96",
           "#ab63fa",
           "#FFA15A",
           "#19d3f3",
           "#FF6692",
           "#B6E880",
           "#FF97FF",
           "#FECB52"
          ],
          "font": {
           "color": "#2a3f5f"
          },
          "geo": {
           "bgcolor": "white",
           "lakecolor": "white",
           "landcolor": "white",
           "showlakes": true,
           "showland": true,
           "subunitcolor": "#C8D4E3"
          },
          "hoverlabel": {
           "align": "left"
          },
          "hovermode": "closest",
          "mapbox": {
           "style": "light"
          },
          "paper_bgcolor": "white",
          "plot_bgcolor": "white",
          "polar": {
           "angularaxis": {
            "gridcolor": "#EBF0F8",
            "linecolor": "#EBF0F8",
            "ticks": ""
           },
           "bgcolor": "white",
           "radialaxis": {
            "gridcolor": "#EBF0F8",
            "linecolor": "#EBF0F8",
            "ticks": ""
           }
          },
          "scene": {
           "xaxis": {
            "backgroundcolor": "white",
            "gridcolor": "#DFE8F3",
            "gridwidth": 2,
            "linecolor": "#EBF0F8",
            "showbackground": true,
            "ticks": "",
            "zerolinecolor": "#EBF0F8"
           },
           "yaxis": {
            "backgroundcolor": "white",
            "gridcolor": "#DFE8F3",
            "gridwidth": 2,
            "linecolor": "#EBF0F8",
            "showbackground": true,
            "ticks": "",
            "zerolinecolor": "#EBF0F8"
           },
           "zaxis": {
            "backgroundcolor": "white",
            "gridcolor": "#DFE8F3",
            "gridwidth": 2,
            "linecolor": "#EBF0F8",
            "showbackground": true,
            "ticks": "",
            "zerolinecolor": "#EBF0F8"
           }
          },
          "shapedefaults": {
           "line": {
            "color": "#2a3f5f"
           }
          },
          "ternary": {
           "aaxis": {
            "gridcolor": "#DFE8F3",
            "linecolor": "#A2B1C6",
            "ticks": ""
           },
           "baxis": {
            "gridcolor": "#DFE8F3",
            "linecolor": "#A2B1C6",
            "ticks": ""
           },
           "bgcolor": "white",
           "caxis": {
            "gridcolor": "#DFE8F3",
            "linecolor": "#A2B1C6",
            "ticks": ""
           }
          },
          "title": {
           "x": 0.05
          },
          "xaxis": {
           "automargin": true,
           "gridcolor": "#EBF0F8",
           "linecolor": "#EBF0F8",
           "ticks": "",
           "title": {
            "standoff": 15
           },
           "zerolinecolor": "#EBF0F8",
           "zerolinewidth": 2
          },
          "yaxis": {
           "automargin": true,
           "gridcolor": "#EBF0F8",
           "linecolor": "#EBF0F8",
           "ticks": "",
           "title": {
            "standoff": 15
           },
           "zerolinecolor": "#EBF0F8",
           "zerolinewidth": 2
          }
         }
        },
        "title": {
         "text": "Top 40 Features Correlated with Target"
        },
        "xaxis": {
         "anchor": "y",
         "domain": [
          0,
          1
         ],
         "title": {
          "text": "Pearson Correlation"
         }
        },
        "yaxis": {
         "anchor": "x",
         "categoryorder": "total ascending",
         "domain": [
          0,
          1
         ],
         "title": {
          "text": "Feature"
         }
        }
       }
      }
     },
     "metadata": {},
     "output_type": "display_data"
    }
   ],
   "source": [
    "import polars as pl\n",
    "import plotly.express as px\n",
    "import plotly.graph_objects as go\n",
    "from plotly.subplots import make_subplots\n",
    "\n",
    "# Set default plotly template for better aesthetics\n",
    "import plotly.io as pio\n",
    "pio.templates.default = \"plotly_white\"\n",
    "\n",
    "# %% [markdown]\n",
    "# ## 2. Load and Prepare Data\n",
    "# Here, we load the training data, rename the target column for clarity, and ensure all feature columns are cast to a numeric type (`Float64`).\n",
    "\n",
    "# %%\n",
    "# Load the dataset using Polars\n",
    "full_train_df = pl.read_csv(\"./kaggle/train.csv\")\n",
    "\n",
    "# Rename the target column\n",
    "full_train_df = full_train_df.rename({'market_forward_excess_returns': 'target'})\n",
    "\n",
    "full_train_df = full_train_df.slice(6000)\n",
    "\n",
    "# Explicitly cast all columns except date_id to Float64\n",
    "feature_cols = [col for col in full_train_df.columns if col not in ['date_id', 'target']]\n",
    "\n",
    "full_train_df = full_train_df.with_columns(\n",
    "    pl.col(feature_cols + ['target']).cast(pl.Float64, strict=False)\n",
    ")\n",
    "\n",
    "print(\"Data loaded and prepared successfully.\")\n",
    "print(f\"Shape of the dataframe: {full_train_df.shape}\")\n",
    "full_train_df.head()\n",
    "\n",
    "# %% [markdown]\n",
    "# ## 3. Null Rate Analysis\n",
    "# A crucial step in any data analysis is understanding missing data. We'll calculate the percentage of null values for every column and visualize the result. This helps identify features that might require imputation or be unsuitable for modeling.\n",
    "\n",
    "# %%\n",
    "# Calculate null counts and rates\n",
    "null_counts = full_train_df.null_count()\n",
    "total_rows = len(full_train_df)\n",
    "\n",
    "# Create a DataFrame for null rates\n",
    "null_info_df = pl.DataFrame({\n",
    "    'column': null_counts.columns,\n",
    "    'null_count': null_counts.row(0),\n",
    "}).with_columns(\n",
    "    (pl.col('null_count') / total_rows * 100).alias('null_rate_pct')\n",
    ").sort('null_rate_pct', descending=True)\n",
    "\n",
    "# Filter out columns with zero nulls for a cleaner plot\n",
    "null_info_to_plot = null_info_df.filter(pl.col('null_rate_pct') > 0)\n",
    "\n",
    "# Display the null rate table\n",
    "print(\"Null Value Rates per Column:\")\n",
    "print(null_info_df)\n",
    "\n",
    "# %%\n",
    "# Visualize the null rates\n",
    "fig = px.bar(\n",
    "    null_info_to_plot,\n",
    "    x='column',\n",
    "    y='null_rate_pct',\n",
    "    title='Percentage of Missing Values per Feature (Features with >0% Missing)',\n",
    "    labels={'column': 'Feature', 'null_rate_pct': 'Missing Value Rate (%)'},\n",
    "    height=600\n",
    ")\n",
    "fig.update_layout(xaxis_tickangle=-90)\n",
    "fig.show()\n",
    "\n",
    "\n",
    "# %% [markdown]\n",
    "# ## 4. Target Variable Visualization\n",
    "# Understanding the target variable is the most important part of EDA for a predictive model. We'll look at its distribution and how it behaves over time.\n",
    "\n",
    "# %%\n",
    "# Plot the distribution of the target variable\n",
    "fig_dist = px.histogram(\n",
    "    full_train_df,\n",
    "    x='target',\n",
    "    nbins=100,\n",
    "    title='Distribution of Target (Daily Forward Excess Returns)',\n",
    "    labels={'target': 'Excess Return'}\n",
    ")\n",
    "fig_dist.show()\n",
    "\n",
    "# Plot the target variable over time (using date_id as the time axis)\n",
    "fig_ts = px.line(\n",
    "    full_train_df,\n",
    "    x='date_id',\n",
    "    y='target',\n",
    "    title='Target (Daily Forward Excess Returns) Over Time',\n",
    "    labels={'date_id': 'Date ID', 'target': 'Excess Return'}\n",
    ")\n",
    "fig_ts.show()\n",
    "\n",
    "\n",
    "# %% [markdown]\n",
    "# ## 5. Feature Correlation Analysis\n",
    "# To get a first look at which features might be predictive, we can calculate the Pearson correlation between each feature and the target. A higher absolute correlation suggests a stronger linear relationship.\n",
    "\n",
    "# %%\n",
    "# Calculate correlation of each feature with the target\n",
    "correlations = []\n",
    "for col in feature_cols:\n",
    "    # .item() extracts the single value from the Polars expression result\n",
    "    if col in ['forward_returns']:\n",
    "        continue  # Skip\n",
    "    corr_value = full_train_df.select(pl.corr('target', col)).item()\n",
    "    correlations.append((col, corr_value))\n",
    "\n",
    "# Create a DataFrame of correlations\n",
    "corr_df = pl.DataFrame(correlations, schema=['feature', 'correlation']).sort('correlation', descending=True, nulls_last=True)\n",
    "\n",
    "# Separate top positive and top negative correlations for visualization\n",
    "top_n = 20\n",
    "top_positive_corr = corr_df.head(top_n)\n",
    "top_negative_corr = corr_df.tail(top_n).sort('correlation', descending=False)\n",
    "\n",
    "# Combine for plotting\n",
    "top_corr_to_plot = pl.concat([top_positive_corr, top_negative_corr])\n",
    "\n",
    "print(f\"Top {top_n} Most Positively Correlated Features with Target:\")\n",
    "print(top_positive_corr)\n",
    "print(f\"\\nTop {top_n} Most Negatively Correlated Features with Target:\")\n",
    "print(top_negative_corr.sort('correlation'))\n",
    "\n",
    "\n",
    "# %%\n",
    "# Visualize the top correlations\n",
    "fig_corr = px.bar(\n",
    "    top_corr_to_plot,\n",
    "    x='correlation',\n",
    "    y='feature',\n",
    "    orientation='h',\n",
    "    title=f'Top {top_n*2} Features Correlated with Target',\n",
    "    labels={'feature': 'Feature', 'correlation': 'Pearson Correlation'},\n",
    "    color='correlation',\n",
    "    color_continuous_scale='RdBu_r',\n",
    "    height=800\n",
    ")\n",
    "fig_corr.update_layout(yaxis={'categoryorder':'total ascending'})\n",
    "fig_corr.show()"
   ]
  }
 ],
 "metadata": {
  "kernelspec": {
   "display_name": "ml_311",
   "language": "python",
   "name": "python3"
  },
  "language_info": {
   "codemirror_mode": {
    "name": "ipython",
    "version": 3
   },
   "file_extension": ".py",
   "mimetype": "text/x-python",
   "name": "python",
   "nbconvert_exporter": "python",
   "pygments_lexer": "ipython3",
   "version": "3.11.11"
  }
 },
 "nbformat": 4,
 "nbformat_minor": 5
}
