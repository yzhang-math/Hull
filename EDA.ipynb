{
 "cells": [
  {
   "cell_type": "code",
   "execution_count": 1,
   "id": "61368892",
   "metadata": {},
   "outputs": [
    {
     "name": "stdout",
     "output_type": "stream",
     "text": [
      "Data loaded and prepared successfully.\n",
      "Shape of the dataframe: (6990, 98)\n",
      "Null Value Rates per Column:\n",
      "shape: (98, 3)\n",
      "┌─────────────────┬────────────┬───────────────┐\n",
      "│ column          ┆ null_count ┆ null_rate_pct │\n",
      "│ ---             ┆ ---        ┆ ---           │\n",
      "│ str             ┆ i64        ┆ f64           │\n",
      "╞═════════════════╪════════════╪═══════════════╡\n",
      "│ E7              ┆ 4969       ┆ 71.087268     │\n",
      "│ V10             ┆ 4049       ┆ 57.925608     │\n",
      "│ S3              ┆ 3733       ┆ 53.404864     │\n",
      "│ M1              ┆ 3547       ┆ 50.74392      │\n",
      "│ M13             ┆ 3540       ┆ 50.643777     │\n",
      "│ …               ┆ …          ┆ …             │\n",
      "│ V7              ┆ 0          ┆ 0.0           │\n",
      "│ V8              ┆ 0          ┆ 0.0           │\n",
      "│ forward_returns ┆ 0          ┆ 0.0           │\n",
      "│ risk_free_rate  ┆ 0          ┆ 0.0           │\n",
      "│ target          ┆ 0          ┆ 0.0           │\n",
      "└─────────────────┴────────────┴───────────────┘\n"
     ]
    },
    {
     "data": {
      "application/vnd.plotly.v1+json": {
       "config": {
        "plotlyServerURL": "https://plot.ly"
       },
       "data": [
        {
         "hovertemplate": "Feature=%{x}<br>Missing Value Rate (%)=%{y}<extra></extra>",
         "legendgroup": "",
         "marker": {
          "color": "#636efa",
          "pattern": {
           "shape": ""
          }
         },
         "name": "",
         "orientation": "v",
         "showlegend": false,
         "textposition": "auto",
         "type": "bar",
         "x": [
          "E7",
          "V10",
          "S3",
          "M1",
          "M13",
          "M14",
          "M6",
          "V9",
          "S12",
          "M5",
          "M2",
          "S8",
          "M3"
         ],
         "xaxis": "x",
         "y": {
          "bdata": "BIKHypXFUUApCcVSevZMQEBJKJbSs0pAcqRNxDhfSUA6k2pHZ1JJQDqTakdnUklAGM1wpE3ERUC/9ZOEYilCQOU9FfIR/TVASIFtr9NaMkCN80UzHGkxQA2gsSGs3ixActiDSA570D8=",
          "dtype": "f8"
         },
         "yaxis": "y"
        }
       ],
       "layout": {
        "barmode": "relative",
        "height": 600,
        "legend": {
         "tracegroupgap": 0
        },
        "template": {
         "data": {
          "bar": [
           {
            "error_x": {
             "color": "#2a3f5f"
            },
            "error_y": {
             "color": "#2a3f5f"
            },
            "marker": {
             "line": {
              "color": "white",
              "width": 0.5
             },
             "pattern": {
              "fillmode": "overlay",
              "size": 10,
              "solidity": 0.2
             }
            },
            "type": "bar"
           }
          ],
          "barpolar": [
           {
            "marker": {
             "line": {
              "color": "white",
              "width": 0.5
             },
             "pattern": {
              "fillmode": "overlay",
              "size": 10,
              "solidity": 0.2
             }
            },
            "type": "barpolar"
           }
          ],
          "carpet": [
           {
            "aaxis": {
             "endlinecolor": "#2a3f5f",
             "gridcolor": "#C8D4E3",
             "linecolor": "#C8D4E3",
             "minorgridcolor": "#C8D4E3",
             "startlinecolor": "#2a3f5f"
            },
            "baxis": {
             "endlinecolor": "#2a3f5f",
             "gridcolor": "#C8D4E3",
             "linecolor": "#C8D4E3",
             "minorgridcolor": "#C8D4E3",
             "startlinecolor": "#2a3f5f"
            },
            "type": "carpet"
           }
          ],
          "choropleth": [
           {
            "colorbar": {
             "outlinewidth": 0,
             "ticks": ""
            },
            "type": "choropleth"
           }
          ],
          "contour": [
           {
            "colorbar": {
             "outlinewidth": 0,
             "ticks": ""
            },
            "colorscale": [
             [
              0,
              "#0d0887"
             ],
             [
              0.1111111111111111,
              "#46039f"
             ],
             [
              0.2222222222222222,
              "#7201a8"
             ],
             [
              0.3333333333333333,
              "#9c179e"
             ],
             [
              0.4444444444444444,
              "#bd3786"
             ],
             [
              0.5555555555555556,
              "#d8576b"
             ],
             [
              0.6666666666666666,
              "#ed7953"
             ],
             [
              0.7777777777777778,
              "#fb9f3a"
             ],
             [
              0.8888888888888888,
              "#fdca26"
             ],
             [
              1,
              "#f0f921"
             ]
            ],
            "type": "contour"
           }
          ],
          "contourcarpet": [
           {
            "colorbar": {
             "outlinewidth": 0,
             "ticks": ""
            },
            "type": "contourcarpet"
           }
          ],
          "heatmap": [
           {
            "colorbar": {
             "outlinewidth": 0,
             "ticks": ""
            },
            "colorscale": [
             [
              0,
              "#0d0887"
             ],
             [
              0.1111111111111111,
              "#46039f"
             ],
             [
              0.2222222222222222,
              "#7201a8"
             ],
             [
              0.3333333333333333,
              "#9c179e"
             ],
             [
              0.4444444444444444,
              "#bd3786"
             ],
             [
              0.5555555555555556,
              "#d8576b"
             ],
             [
              0.6666666666666666,
              "#ed7953"
             ],
             [
              0.7777777777777778,
              "#fb9f3a"
             ],
             [
              0.8888888888888888,
              "#fdca26"
             ],
             [
              1,
              "#f0f921"
             ]
            ],
            "type": "heatmap"
           }
          ],
          "histogram": [
           {
            "marker": {
             "pattern": {
              "fillmode": "overlay",
              "size": 10,
              "solidity": 0.2
             }
            },
            "type": "histogram"
           }
          ],
          "histogram2d": [
           {
            "colorbar": {
             "outlinewidth": 0,
             "ticks": ""
            },
            "colorscale": [
             [
              0,
              "#0d0887"
             ],
             [
              0.1111111111111111,
              "#46039f"
             ],
             [
              0.2222222222222222,
              "#7201a8"
             ],
             [
              0.3333333333333333,
              "#9c179e"
             ],
             [
              0.4444444444444444,
              "#bd3786"
             ],
             [
              0.5555555555555556,
              "#d8576b"
             ],
             [
              0.6666666666666666,
              "#ed7953"
             ],
             [
              0.7777777777777778,
              "#fb9f3a"
             ],
             [
              0.8888888888888888,
              "#fdca26"
             ],
             [
              1,
              "#f0f921"
             ]
            ],
            "type": "histogram2d"
           }
          ],
          "histogram2dcontour": [
           {
            "colorbar": {
             "outlinewidth": 0,
             "ticks": ""
            },
            "colorscale": [
             [
              0,
              "#0d0887"
             ],
             [
              0.1111111111111111,
              "#46039f"
             ],
             [
              0.2222222222222222,
              "#7201a8"
             ],
             [
              0.3333333333333333,
              "#9c179e"
             ],
             [
              0.4444444444444444,
              "#bd3786"
             ],
             [
              0.5555555555555556,
              "#d8576b"
             ],
             [
              0.6666666666666666,
              "#ed7953"
             ],
             [
              0.7777777777777778,
              "#fb9f3a"
             ],
             [
              0.8888888888888888,
              "#fdca26"
             ],
             [
              1,
              "#f0f921"
             ]
            ],
            "type": "histogram2dcontour"
           }
          ],
          "mesh3d": [
           {
            "colorbar": {
             "outlinewidth": 0,
             "ticks": ""
            },
            "type": "mesh3d"
           }
          ],
          "parcoords": [
           {
            "line": {
             "colorbar": {
              "outlinewidth": 0,
              "ticks": ""
             }
            },
            "type": "parcoords"
           }
          ],
          "pie": [
           {
            "automargin": true,
            "type": "pie"
           }
          ],
          "scatter": [
           {
            "fillpattern": {
             "fillmode": "overlay",
             "size": 10,
             "solidity": 0.2
            },
            "type": "scatter"
           }
          ],
          "scatter3d": [
           {
            "line": {
             "colorbar": {
              "outlinewidth": 0,
              "ticks": ""
             }
            },
            "marker": {
             "colorbar": {
              "outlinewidth": 0,
              "ticks": ""
             }
            },
            "type": "scatter3d"
           }
          ],
          "scattercarpet": [
           {
            "marker": {
             "colorbar": {
              "outlinewidth": 0,
              "ticks": ""
             }
            },
            "type": "scattercarpet"
           }
          ],
          "scattergeo": [
           {
            "marker": {
             "colorbar": {
              "outlinewidth": 0,
              "ticks": ""
             }
            },
            "type": "scattergeo"
           }
          ],
          "scattergl": [
           {
            "marker": {
             "colorbar": {
              "outlinewidth": 0,
              "ticks": ""
             }
            },
            "type": "scattergl"
           }
          ],
          "scattermap": [
           {
            "marker": {
             "colorbar": {
              "outlinewidth": 0,
              "ticks": ""
             }
            },
            "type": "scattermap"
           }
          ],
          "scattermapbox": [
           {
            "marker": {
             "colorbar": {
              "outlinewidth": 0,
              "ticks": ""
             }
            },
            "type": "scattermapbox"
           }
          ],
          "scatterpolar": [
           {
            "marker": {
             "colorbar": {
              "outlinewidth": 0,
              "ticks": ""
             }
            },
            "type": "scatterpolar"
           }
          ],
          "scatterpolargl": [
           {
            "marker": {
             "colorbar": {
              "outlinewidth": 0,
              "ticks": ""
             }
            },
            "type": "scatterpolargl"
           }
          ],
          "scatterternary": [
           {
            "marker": {
             "colorbar": {
              "outlinewidth": 0,
              "ticks": ""
             }
            },
            "type": "scatterternary"
           }
          ],
          "surface": [
           {
            "colorbar": {
             "outlinewidth": 0,
             "ticks": ""
            },
            "colorscale": [
             [
              0,
              "#0d0887"
             ],
             [
              0.1111111111111111,
              "#46039f"
             ],
             [
              0.2222222222222222,
              "#7201a8"
             ],
             [
              0.3333333333333333,
              "#9c179e"
             ],
             [
              0.4444444444444444,
              "#bd3786"
             ],
             [
              0.5555555555555556,
              "#d8576b"
             ],
             [
              0.6666666666666666,
              "#ed7953"
             ],
             [
              0.7777777777777778,
              "#fb9f3a"
             ],
             [
              0.8888888888888888,
              "#fdca26"
             ],
             [
              1,
              "#f0f921"
             ]
            ],
            "type": "surface"
           }
          ],
          "table": [
           {
            "cells": {
             "fill": {
              "color": "#EBF0F8"
             },
             "line": {
              "color": "white"
             }
            },
            "header": {
             "fill": {
              "color": "#C8D4E3"
             },
             "line": {
              "color": "white"
             }
            },
            "type": "table"
           }
          ]
         },
         "layout": {
          "annotationdefaults": {
           "arrowcolor": "#2a3f5f",
           "arrowhead": 0,
           "arrowwidth": 1
          },
          "autotypenumbers": "strict",
          "coloraxis": {
           "colorbar": {
            "outlinewidth": 0,
            "ticks": ""
           }
          },
          "colorscale": {
           "diverging": [
            [
             0,
             "#8e0152"
            ],
            [
             0.1,
             "#c51b7d"
            ],
            [
             0.2,
             "#de77ae"
            ],
            [
             0.3,
             "#f1b6da"
            ],
            [
             0.4,
             "#fde0ef"
            ],
            [
             0.5,
             "#f7f7f7"
            ],
            [
             0.6,
             "#e6f5d0"
            ],
            [
             0.7,
             "#b8e186"
            ],
            [
             0.8,
             "#7fbc41"
            ],
            [
             0.9,
             "#4d9221"
            ],
            [
             1,
             "#276419"
            ]
           ],
           "sequential": [
            [
             0,
             "#0d0887"
            ],
            [
             0.1111111111111111,
             "#46039f"
            ],
            [
             0.2222222222222222,
             "#7201a8"
            ],
            [
             0.3333333333333333,
             "#9c179e"
            ],
            [
             0.4444444444444444,
             "#bd3786"
            ],
            [
             0.5555555555555556,
             "#d8576b"
            ],
            [
             0.6666666666666666,
             "#ed7953"
            ],
            [
             0.7777777777777778,
             "#fb9f3a"
            ],
            [
             0.8888888888888888,
             "#fdca26"
            ],
            [
             1,
             "#f0f921"
            ]
           ],
           "sequentialminus": [
            [
             0,
             "#0d0887"
            ],
            [
             0.1111111111111111,
             "#46039f"
            ],
            [
             0.2222222222222222,
             "#7201a8"
            ],
            [
             0.3333333333333333,
             "#9c179e"
            ],
            [
             0.4444444444444444,
             "#bd3786"
            ],
            [
             0.5555555555555556,
             "#d8576b"
            ],
            [
             0.6666666666666666,
             "#ed7953"
            ],
            [
             0.7777777777777778,
             "#fb9f3a"
            ],
            [
             0.8888888888888888,
             "#fdca26"
            ],
            [
             1,
             "#f0f921"
            ]
           ]
          },
          "colorway": [
           "#636efa",
           "#EF553B",
           "#00cc96",
           "#ab63fa",
           "#FFA15A",
           "#19d3f3",
           "#FF6692",
           "#B6E880",
           "#FF97FF",
           "#FECB52"
          ],
          "font": {
           "color": "#2a3f5f"
          },
          "geo": {
           "bgcolor": "white",
           "lakecolor": "white",
           "landcolor": "white",
           "showlakes": true,
           "showland": true,
           "subunitcolor": "#C8D4E3"
          },
          "hoverlabel": {
           "align": "left"
          },
          "hovermode": "closest",
          "mapbox": {
           "style": "light"
          },
          "paper_bgcolor": "white",
          "plot_bgcolor": "white",
          "polar": {
           "angularaxis": {
            "gridcolor": "#EBF0F8",
            "linecolor": "#EBF0F8",
            "ticks": ""
           },
           "bgcolor": "white",
           "radialaxis": {
            "gridcolor": "#EBF0F8",
            "linecolor": "#EBF0F8",
            "ticks": ""
           }
          },
          "scene": {
           "xaxis": {
            "backgroundcolor": "white",
            "gridcolor": "#DFE8F3",
            "gridwidth": 2,
            "linecolor": "#EBF0F8",
            "showbackground": true,
            "ticks": "",
            "zerolinecolor": "#EBF0F8"
           },
           "yaxis": {
            "backgroundcolor": "white",
            "gridcolor": "#DFE8F3",
            "gridwidth": 2,
            "linecolor": "#EBF0F8",
            "showbackground": true,
            "ticks": "",
            "zerolinecolor": "#EBF0F8"
           },
           "zaxis": {
            "backgroundcolor": "white",
            "gridcolor": "#DFE8F3",
            "gridwidth": 2,
            "linecolor": "#EBF0F8",
            "showbackground": true,
            "ticks": "",
            "zerolinecolor": "#EBF0F8"
           }
          },
          "shapedefaults": {
           "line": {
            "color": "#2a3f5f"
           }
          },
          "ternary": {
           "aaxis": {
            "gridcolor": "#DFE8F3",
            "linecolor": "#A2B1C6",
            "ticks": ""
           },
           "baxis": {
            "gridcolor": "#DFE8F3",
            "linecolor": "#A2B1C6",
            "ticks": ""
           },
           "bgcolor": "white",
           "caxis": {
            "gridcolor": "#DFE8F3",
            "linecolor": "#A2B1C6",
            "ticks": ""
           }
          },
          "title": {
           "x": 0.05
          },
          "xaxis": {
           "automargin": true,
           "gridcolor": "#EBF0F8",
           "linecolor": "#EBF0F8",
           "ticks": "",
           "title": {
            "standoff": 15
           },
           "zerolinecolor": "#EBF0F8",
           "zerolinewidth": 2
          },
          "yaxis": {
           "automargin": true,
           "gridcolor": "#EBF0F8",
           "linecolor": "#EBF0F8",
           "ticks": "",
           "title": {
            "standoff": 15
           },
           "zerolinecolor": "#EBF0F8",
           "zerolinewidth": 2
          }
         }
        },
        "title": {
         "text": "Percentage of Missing Values per Feature (Features with >0% Missing)"
        },
        "xaxis": {
         "anchor": "y",
         "domain": [
          0,
          1
         ],
         "tickangle": -90,
         "title": {
          "text": "Feature"
         }
        },
        "yaxis": {
         "anchor": "x",
         "domain": [
          0,
          1
         ],
         "title": {
          "text": "Missing Value Rate (%)"
         }
        }
       }
      }
     },
     "metadata": {},
     "output_type": "display_data"
    },
    {
     "data": {
      "application/vnd.plotly.v1+json": {
       "config": {
        "plotlyServerURL": "https://plot.ly"
       },
       "data": [
        {
         "bingroup": "x",
         "hovertemplate": "Excess Return=%{x}<br>count=%{y}<extra></extra>",
         "legendgroup": "",
         "marker": {
          "color": "#636efa",
          "pattern": {
           "shape": ""
          }
         },
         "name": "",
         "nbinsx": 100,
         "orientation": "v",
         "showlegend": false,
         "type": "histogram",
         "x": {
          "bdata": "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",
          "dtype": "f8"
         },
         "xaxis": "x",
         "yaxis": "y"
        }
       ],
       "layout": {
        "barmode": "relative",
        "legend": {
         "tracegroupgap": 0
        },
        "template": {
         "data": {
          "bar": [
           {
            "error_x": {
             "color": "#2a3f5f"
            },
            "error_y": {
             "color": "#2a3f5f"
            },
            "marker": {
             "line": {
              "color": "white",
              "width": 0.5
             },
             "pattern": {
              "fillmode": "overlay",
              "size": 10,
              "solidity": 0.2
             }
            },
            "type": "bar"
           }
          ],
          "barpolar": [
           {
            "marker": {
             "line": {
              "color": "white",
              "width": 0.5
             },
             "pattern": {
              "fillmode": "overlay",
              "size": 10,
              "solidity": 0.2
             }
            },
            "type": "barpolar"
           }
          ],
          "carpet": [
           {
            "aaxis": {
             "endlinecolor": "#2a3f5f",
             "gridcolor": "#C8D4E3",
             "linecolor": "#C8D4E3",
             "minorgridcolor": "#C8D4E3",
             "startlinecolor": "#2a3f5f"
            },
            "baxis": {
             "endlinecolor": "#2a3f5f",
             "gridcolor": "#C8D4E3",
             "linecolor": "#C8D4E3",
             "minorgridcolor": "#C8D4E3",
             "startlinecolor": "#2a3f5f"
            },
            "type": "carpet"
           }
          ],
          "choropleth": [
           {
            "colorbar": {
             "outlinewidth": 0,
             "ticks": ""
            },
            "type": "choropleth"
           }
          ],
          "contour": [
           {
            "colorbar": {
             "outlinewidth": 0,
             "ticks": ""
            },
            "colorscale": [
             [
              0,
              "#0d0887"
             ],
             [
              0.1111111111111111,
              "#46039f"
             ],
             [
              0.2222222222222222,
              "#7201a8"
             ],
             [
              0.3333333333333333,
              "#9c179e"
             ],
             [
              0.4444444444444444,
              "#bd3786"
             ],
             [
              0.5555555555555556,
              "#d8576b"
             ],
             [
              0.6666666666666666,
              "#ed7953"
             ],
             [
              0.7777777777777778,
              "#fb9f3a"
             ],
             [
              0.8888888888888888,
              "#fdca26"
             ],
             [
              1,
              "#f0f921"
             ]
            ],
            "type": "contour"
           }
          ],
          "contourcarpet": [
           {
            "colorbar": {
             "outlinewidth": 0,
             "ticks": ""
            },
            "type": "contourcarpet"
           }
          ],
          "heatmap": [
           {
            "colorbar": {
             "outlinewidth": 0,
             "ticks": ""
            },
            "colorscale": [
             [
              0,
              "#0d0887"
             ],
             [
              0.1111111111111111,
              "#46039f"
             ],
             [
              0.2222222222222222,
              "#7201a8"
             ],
             [
              0.3333333333333333,
              "#9c179e"
             ],
             [
              0.4444444444444444,
              "#bd3786"
             ],
             [
              0.5555555555555556,
              "#d8576b"
             ],
             [
              0.6666666666666666,
              "#ed7953"
             ],
             [
              0.7777777777777778,
              "#fb9f3a"
             ],
             [
              0.8888888888888888,
              "#fdca26"
             ],
             [
              1,
              "#f0f921"
             ]
            ],
            "type": "heatmap"
           }
          ],
          "histogram": [
           {
            "marker": {
             "pattern": {
              "fillmode": "overlay",
              "size": 10,
              "solidity": 0.2
             }
            },
            "type": "histogram"
           }
          ],
          "histogram2d": [
           {
            "colorbar": {
             "outlinewidth": 0,
             "ticks": ""
            },
            "colorscale": [
             [
              0,
              "#0d0887"
             ],
             [
              0.1111111111111111,
              "#46039f"
             ],
             [
              0.2222222222222222,
              "#7201a8"
             ],
             [
              0.3333333333333333,
              "#9c179e"
             ],
             [
              0.4444444444444444,
              "#bd3786"
             ],
             [
              0.5555555555555556,
              "#d8576b"
             ],
             [
              0.6666666666666666,
              "#ed7953"
             ],
             [
              0.7777777777777778,
              "#fb9f3a"
             ],
             [
              0.8888888888888888,
              "#fdca26"
             ],
             [
              1,
              "#f0f921"
             ]
            ],
            "type": "histogram2d"
           }
          ],
          "histogram2dcontour": [
           {
            "colorbar": {
             "outlinewidth": 0,
             "ticks": ""
            },
            "colorscale": [
             [
              0,
              "#0d0887"
             ],
             [
              0.1111111111111111,
              "#46039f"
             ],
             [
              0.2222222222222222,
              "#7201a8"
             ],
             [
              0.3333333333333333,
              "#9c179e"
             ],
             [
              0.4444444444444444,
              "#bd3786"
             ],
             [
              0.5555555555555556,
              "#d8576b"
             ],
             [
              0.6666666666666666,
              "#ed7953"
             ],
             [
              0.7777777777777778,
              "#fb9f3a"
             ],
             [
              0.8888888888888888,
              "#fdca26"
             ],
             [
              1,
              "#f0f921"
             ]
            ],
            "type": "histogram2dcontour"
           }
          ],
          "mesh3d": [
           {
            "colorbar": {
             "outlinewidth": 0,
             "ticks": ""
            },
            "type": "mesh3d"
           }
          ],
          "parcoords": [
           {
            "line": {
             "colorbar": {
              "outlinewidth": 0,
              "ticks": ""
             }
            },
            "type": "parcoords"
           }
          ],
          "pie": [
           {
            "automargin": true,
            "type": "pie"
           }
          ],
          "scatter": [
           {
            "fillpattern": {
             "fillmode": "overlay",
             "size": 10,
             "solidity": 0.2
            },
            "type": "scatter"
           }
          ],
          "scatter3d": [
           {
            "line": {
             "colorbar": {
              "outlinewidth": 0,
              "ticks": ""
             }
            },
            "marker": {
             "colorbar": {
              "outlinewidth": 0,
              "ticks": ""
             }
            },
            "type": "scatter3d"
           }
          ],
          "scattercarpet": [
           {
            "marker": {
             "colorbar": {
              "outlinewidth": 0,
              "ticks": ""
             }
            },
            "type": "scattercarpet"
           }
          ],
          "scattergeo": [
           {
            "marker": {
             "colorbar": {
              "outlinewidth": 0,
              "ticks": ""
             }
            },
            "type": "scattergeo"
           }
          ],
          "scattergl": [
           {
            "marker": {
             "colorbar": {
              "outlinewidth": 0,
              "ticks": ""
             }
            },
            "type": "scattergl"
           }
          ],
          "scattermap": [
           {
            "marker": {
             "colorbar": {
              "outlinewidth": 0,
              "ticks": ""
             }
            },
            "type": "scattermap"
           }
          ],
          "scattermapbox": [
           {
            "marker": {
             "colorbar": {
              "outlinewidth": 0,
              "ticks": ""
             }
            },
            "type": "scattermapbox"
           }
          ],
          "scatterpolar": [
           {
            "marker": {
             "colorbar": {
              "outlinewidth": 0,
              "ticks": ""
             }
            },
            "type": "scatterpolar"
           }
          ],
          "scatterpolargl": [
           {
            "marker": {
             "colorbar": {
              "outlinewidth": 0,
              "ticks": ""
             }
            },
            "type": "scatterpolargl"
           }
          ],
          "scatterternary": [
           {
            "marker": {
             "colorbar": {
              "outlinewidth": 0,
              "ticks": ""
             }
            },
            "type": "scatterternary"
           }
          ],
          "surface": [
           {
            "colorbar": {
             "outlinewidth": 0,
             "ticks": ""
            },
            "colorscale": [
             [
              0,
              "#0d0887"
             ],
             [
              0.1111111111111111,
              "#46039f"
             ],
             [
              0.2222222222222222,
              "#7201a8"
             ],
             [
              0.3333333333333333,
              "#9c179e"
             ],
             [
              0.4444444444444444,
              "#bd3786"
             ],
             [
              0.5555555555555556,
              "#d8576b"
             ],
             [
              0.6666666666666666,
              "#ed7953"
             ],
             [
              0.7777777777777778,
              "#fb9f3a"
             ],
             [
              0.8888888888888888,
              "#fdca26"
             ],
             [
              1,
              "#f0f921"
             ]
            ],
            "type": "surface"
           }
          ],
          "table": [
           {
            "cells": {
             "fill": {
              "color": "#EBF0F8"
             },
             "line": {
              "color": "white"
             }
            },
            "header": {
             "fill": {
              "color": "#C8D4E3"
             },
             "line": {
              "color": "white"
             }
            },
            "type": "table"
           }
          ]
         },
         "layout": {
          "annotationdefaults": {
           "arrowcolor": "#2a3f5f",
           "arrowhead": 0,
           "arrowwidth": 1
          },
          "autotypenumbers": "strict",
          "coloraxis": {
           "colorbar": {
            "outlinewidth": 0,
            "ticks": ""
           }
          },
          "colorscale": {
           "diverging": [
            [
             0,
             "#8e0152"
            ],
            [
             0.1,
             "#c51b7d"
            ],
            [
             0.2,
             "#de77ae"
            ],
            [
             0.3,
             "#f1b6da"
            ],
            [
             0.4,
             "#fde0ef"
            ],
            [
             0.5,
             "#f7f7f7"
            ],
            [
             0.6,
             "#e6f5d0"
            ],
            [
             0.7,
             "#b8e186"
            ],
            [
             0.8,
             "#7fbc41"
            ],
            [
             0.9,
             "#4d9221"
            ],
            [
             1,
             "#276419"
            ]
           ],
           "sequential": [
            [
             0,
             "#0d0887"
            ],
            [
             0.1111111111111111,
             "#46039f"
            ],
            [
             0.2222222222222222,
             "#7201a8"
            ],
            [
             0.3333333333333333,
             "#9c179e"
            ],
            [
             0.4444444444444444,
             "#bd3786"
            ],
            [
             0.5555555555555556,
             "#d8576b"
            ],
            [
             0.6666666666666666,
             "#ed7953"
            ],
            [
             0.7777777777777778,
             "#fb9f3a"
            ],
            [
             0.8888888888888888,
             "#fdca26"
            ],
            [
             1,
             "#f0f921"
            ]
           ],
           "sequentialminus": [
            [
             0,
             "#0d0887"
            ],
            [
             0.1111111111111111,
             "#46039f"
            ],
            [
             0.2222222222222222,
             "#7201a8"
            ],
            [
             0.3333333333333333,
             "#9c179e"
            ],
            [
             0.4444444444444444,
             "#bd3786"
            ],
            [
             0.5555555555555556,
             "#d8576b"
            ],
            [
             0.6666666666666666,
             "#ed7953"
            ],
            [
             0.7777777777777778,
             "#fb9f3a"
            ],
            [
             0.8888888888888888,
             "#fdca26"
            ],
            [
             1,
             "#f0f921"
            ]
           ]
          },
          "colorway": [
           "#636efa",
           "#EF553B",
           "#00cc96",
           "#ab63fa",
           "#FFA15A",
           "#19d3f3",
           "#FF6692",
           "#B6E880",
           "#FF97FF",
           "#FECB52"
          ],
          "font": {
           "color": "#2a3f5f"
          },
          "geo": {
           "bgcolor": "white",
           "lakecolor": "white",
           "landcolor": "white",
           "showlakes": true,
           "showland": true,
           "subunitcolor": "#C8D4E3"
          },
          "hoverlabel": {
           "align": "left"
          },
          "hovermode": "closest",
          "mapbox": {
           "style": "light"
          },
          "paper_bgcolor": "white",
          "plot_bgcolor": "white",
          "polar": {
           "angularaxis": {
            "gridcolor": "#EBF0F8",
            "linecolor": "#EBF0F8",
            "ticks": ""
           },
           "bgcolor": "white",
           "radialaxis": {
            "gridcolor": "#EBF0F8",
            "linecolor": "#EBF0F8",
            "ticks": ""
           }
          },
          "scene": {
           "xaxis": {
            "backgroundcolor": "white",
            "gridcolor": "#DFE8F3",
            "gridwidth": 2,
            "linecolor": "#EBF0F8",
            "showbackground": true,
            "ticks": "",
            "zerolinecolor": "#EBF0F8"
           },
           "yaxis": {
            "backgroundcolor": "white",
            "gridcolor": "#DFE8F3",
            "gridwidth": 2,
            "linecolor": "#EBF0F8",
            "showbackground": true,
            "ticks": "",
            "zerolinecolor": "#EBF0F8"
           },
           "zaxis": {
            "backgroundcolor": "white",
            "gridcolor": "#DFE8F3",
            "gridwidth": 2,
            "linecolor": "#EBF0F8",
            "showbackground": true,
            "ticks": "",
            "zerolinecolor": "#EBF0F8"
           }
          },
          "shapedefaults": {
           "line": {
            "color": "#2a3f5f"
           }
          },
          "ternary": {
           "aaxis": {
            "gridcolor": "#DFE8F3",
            "linecolor": "#A2B1C6",
            "ticks": ""
           },
           "baxis": {
            "gridcolor": "#DFE8F3",
            "linecolor": "#A2B1C6",
            "ticks": ""
           },
           "bgcolor": "white",
           "caxis": {
            "gridcolor": "#DFE8F3",
            "linecolor": "#A2B1C6",
            "ticks": ""
           }
          },
          "title": {
           "x": 0.05
          },
          "xaxis": {
           "automargin": true,
           "gridcolor": "#EBF0F8",
           "linecolor": "#EBF0F8",
           "ticks": "",
           "title": {
            "standoff": 15
           },
           "zerolinecolor": "#EBF0F8",
           "zerolinewidth": 2
          },
          "yaxis": {
           "automargin": true,
           "gridcolor": "#EBF0F8",
           "linecolor": "#EBF0F8",
           "ticks": "",
           "title": {
            "standoff": 15
           },
           "zerolinecolor": "#EBF0F8",
           "zerolinewidth": 2
          }
         }
        },
        "title": {
         "text": "Distribution of Target (Daily Forward Excess Returns)"
        },
        "xaxis": {
         "anchor": "y",
         "domain": [
          0,
          1
         ],
         "title": {
          "text": "Excess Return"
         }
        },
        "yaxis": {
         "anchor": "x",
         "domain": [
          0,
          1
         ],
         "title": {
          "text": "count"
         }
        }
       }
      }
     },
     "metadata": {},
     "output_type": "display_data"
    },
    {
     "data": {
      "application/vnd.plotly.v1+json": {
       "config": {
        "plotlyServerURL": "https://plot.ly"
       },
       "data": [
        {
         "hovertemplate": "Date ID=%{x}<br>Excess Return=%{y}<extra></extra>",
         "legendgroup": "",
         "line": {
          "color": "#636efa",
          "dash": "solid"
         },
         "marker": {
          "symbol": "circle"
         },
         "mode": "lines",
         "name": "",
         "showlegend": false,
         "type": "scattergl",
         "x": {
          "bdata": "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",
          "dtype": "i2"
         },
         "xaxis": "x",
         "y": {
          "bdata": "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",
          "dtype": "f8"
         },
         "yaxis": "y"
        }
       ],
       "layout": {
        "legend": {
         "tracegroupgap": 0
        },
        "template": {
         "data": {
          "bar": [
           {
            "error_x": {
             "color": "#2a3f5f"
            },
            "error_y": {
             "color": "#2a3f5f"
            },
            "marker": {
             "line": {
              "color": "white",
              "width": 0.5
             },
             "pattern": {
              "fillmode": "overlay",
              "size": 10,
              "solidity": 0.2
             }
            },
            "type": "bar"
           }
          ],
          "barpolar": [
           {
            "marker": {
             "line": {
              "color": "white",
              "width": 0.5
             },
             "pattern": {
              "fillmode": "overlay",
              "size": 10,
              "solidity": 0.2
             }
            },
            "type": "barpolar"
           }
          ],
          "carpet": [
           {
            "aaxis": {
             "endlinecolor": "#2a3f5f",
             "gridcolor": "#C8D4E3",
             "linecolor": "#C8D4E3",
             "minorgridcolor": "#C8D4E3",
             "startlinecolor": "#2a3f5f"
            },
            "baxis": {
             "endlinecolor": "#2a3f5f",
             "gridcolor": "#C8D4E3",
             "linecolor": "#C8D4E3",
             "minorgridcolor": "#C8D4E3",
             "startlinecolor": "#2a3f5f"
            },
            "type": "carpet"
           }
          ],
          "choropleth": [
           {
            "colorbar": {
             "outlinewidth": 0,
             "ticks": ""
            },
            "type": "choropleth"
           }
          ],
          "contour": [
           {
            "colorbar": {
             "outlinewidth": 0,
             "ticks": ""
            },
            "colorscale": [
             [
              0,
              "#0d0887"
             ],
             [
              0.1111111111111111,
              "#46039f"
             ],
             [
              0.2222222222222222,
              "#7201a8"
             ],
             [
              0.3333333333333333,
              "#9c179e"
             ],
             [
              0.4444444444444444,
              "#bd3786"
             ],
             [
              0.5555555555555556,
              "#d8576b"
             ],
             [
              0.6666666666666666,
              "#ed7953"
             ],
             [
              0.7777777777777778,
              "#fb9f3a"
             ],
             [
              0.8888888888888888,
              "#fdca26"
             ],
             [
              1,
              "#f0f921"
             ]
            ],
            "type": "contour"
           }
          ],
          "contourcarpet": [
           {
            "colorbar": {
             "outlinewidth": 0,
             "ticks": ""
            },
            "type": "contourcarpet"
           }
          ],
          "heatmap": [
           {
            "colorbar": {
             "outlinewidth": 0,
             "ticks": ""
            },
            "colorscale": [
             [
              0,
              "#0d0887"
             ],
             [
              0.1111111111111111,
              "#46039f"
             ],
             [
              0.2222222222222222,
              "#7201a8"
             ],
             [
              0.3333333333333333,
              "#9c179e"
             ],
             [
              0.4444444444444444,
              "#bd3786"
             ],
             [
              0.5555555555555556,
              "#d8576b"
             ],
             [
              0.6666666666666666,
              "#ed7953"
             ],
             [
              0.7777777777777778,
              "#fb9f3a"
             ],
             [
              0.8888888888888888,
              "#fdca26"
             ],
             [
              1,
              "#f0f921"
             ]
            ],
            "type": "heatmap"
           }
          ],
          "histogram": [
           {
            "marker": {
             "pattern": {
              "fillmode": "overlay",
              "size": 10,
              "solidity": 0.2
             }
            },
            "type": "histogram"
           }
          ],
          "histogram2d": [
           {
            "colorbar": {
             "outlinewidth": 0,
             "ticks": ""
            },
            "colorscale": [
             [
              0,
              "#0d0887"
             ],
             [
              0.1111111111111111,
              "#46039f"
             ],
             [
              0.2222222222222222,
              "#7201a8"
             ],
             [
              0.3333333333333333,
              "#9c179e"
             ],
             [
              0.4444444444444444,
              "#bd3786"
             ],
             [
              0.5555555555555556,
              "#d8576b"
             ],
             [
              0.6666666666666666,
              "#ed7953"
             ],
             [
              0.7777777777777778,
              "#fb9f3a"
             ],
             [
              0.8888888888888888,
              "#fdca26"
             ],
             [
              1,
              "#f0f921"
             ]
            ],
            "type": "histogram2d"
           }
          ],
          "histogram2dcontour": [
           {
            "colorbar": {
             "outlinewidth": 0,
             "ticks": ""
            },
            "colorscale": [
             [
              0,
              "#0d0887"
             ],
             [
              0.1111111111111111,
              "#46039f"
             ],
             [
              0.2222222222222222,
              "#7201a8"
             ],
             [
              0.3333333333333333,
              "#9c179e"
             ],
             [
              0.4444444444444444,
              "#bd3786"
             ],
             [
              0.5555555555555556,
              "#d8576b"
             ],
             [
              0.6666666666666666,
              "#ed7953"
             ],
             [
              0.7777777777777778,
              "#fb9f3a"
             ],
             [
              0.8888888888888888,
              "#fdca26"
             ],
             [
              1,
              "#f0f921"
             ]
            ],
            "type": "histogram2dcontour"
           }
          ],
          "mesh3d": [
           {
            "colorbar": {
             "outlinewidth": 0,
             "ticks": ""
            },
            "type": "mesh3d"
           }
          ],
          "parcoords": [
           {
            "line": {
             "colorbar": {
              "outlinewidth": 0,
              "ticks": ""
             }
            },
            "type": "parcoords"
           }
          ],
          "pie": [
           {
            "automargin": true,
            "type": "pie"
           }
          ],
          "scatter": [
           {
            "fillpattern": {
             "fillmode": "overlay",
             "size": 10,
             "solidity": 0.2
            },
            "type": "scatter"
           }
          ],
          "scatter3d": [
           {
            "line": {
             "colorbar": {
              "outlinewidth": 0,
              "ticks": ""
             }
            },
            "marker": {
             "colorbar": {
              "outlinewidth": 0,
              "ticks": ""
             }
            },
            "type": "scatter3d"
           }
          ],
          "scattercarpet": [
           {
            "marker": {
             "colorbar": {
              "outlinewidth": 0,
              "ticks": ""
             }
            },
            "type": "scattercarpet"
           }
          ],
          "scattergeo": [
           {
            "marker": {
             "colorbar": {
              "outlinewidth": 0,
              "ticks": ""
             }
            },
            "type": "scattergeo"
           }
          ],
          "scattergl": [
           {
            "marker": {
             "colorbar": {
              "outlinewidth": 0,
              "ticks": ""
             }
            },
            "type": "scattergl"
           }
          ],
          "scattermap": [
           {
            "marker": {
             "colorbar": {
              "outlinewidth": 0,
              "ticks": ""
             }
            },
            "type": "scattermap"
           }
          ],
          "scattermapbox": [
           {
            "marker": {
             "colorbar": {
              "outlinewidth": 0,
              "ticks": ""
             }
            },
            "type": "scattermapbox"
           }
          ],
          "scatterpolar": [
           {
            "marker": {
             "colorbar": {
              "outlinewidth": 0,
              "ticks": ""
             }
            },
            "type": "scatterpolar"
           }
          ],
          "scatterpolargl": [
           {
            "marker": {
             "colorbar": {
              "outlinewidth": 0,
              "ticks": ""
             }
            },
            "type": "scatterpolargl"
           }
          ],
          "scatterternary": [
           {
            "marker": {
             "colorbar": {
              "outlinewidth": 0,
              "ticks": ""
             }
            },
            "type": "scatterternary"
           }
          ],
          "surface": [
           {
            "colorbar": {
             "outlinewidth": 0,
             "ticks": ""
            },
            "colorscale": [
             [
              0,
              "#0d0887"
             ],
             [
              0.1111111111111111,
              "#46039f"
             ],
             [
              0.2222222222222222,
              "#7201a8"
             ],
             [
              0.3333333333333333,
              "#9c179e"
             ],
             [
              0.4444444444444444,
              "#bd3786"
             ],
             [
              0.5555555555555556,
              "#d8576b"
             ],
             [
              0.6666666666666666,
              "#ed7953"
             ],
             [
              0.7777777777777778,
              "#fb9f3a"
             ],
             [
              0.8888888888888888,
              "#fdca26"
             ],
             [
              1,
              "#f0f921"
             ]
            ],
            "type": "surface"
           }
          ],
          "table": [
           {
            "cells": {
             "fill": {
              "color": "#EBF0F8"
             },
             "line": {
              "color": "white"
             }
            },
            "header": {
             "fill": {
              "color": "#C8D4E3"
             },
             "line": {
              "color": "white"
             }
            },
            "type": "table"
           }
          ]
         },
         "layout": {
          "annotationdefaults": {
           "arrowcolor": "#2a3f5f",
           "arrowhead": 0,
           "arrowwidth": 1
          },
          "autotypenumbers": "strict",
          "coloraxis": {
           "colorbar": {
            "outlinewidth": 0,
            "ticks": ""
           }
          },
          "colorscale": {
           "diverging": [
            [
             0,
             "#8e0152"
            ],
            [
             0.1,
             "#c51b7d"
            ],
            [
             0.2,
             "#de77ae"
            ],
            [
             0.3,
             "#f1b6da"
            ],
            [
             0.4,
             "#fde0ef"
            ],
            [
             0.5,
             "#f7f7f7"
            ],
            [
             0.6,
             "#e6f5d0"
            ],
            [
             0.7,
             "#b8e186"
            ],
            [
             0.8,
             "#7fbc41"
            ],
            [
             0.9,
             "#4d9221"
            ],
            [
             1,
             "#276419"
            ]
           ],
           "sequential": [
            [
             0,
             "#0d0887"
            ],
            [
             0.1111111111111111,
             "#46039f"
            ],
            [
             0.2222222222222222,
             "#7201a8"
            ],
            [
             0.3333333333333333,
             "#9c179e"
            ],
            [
             0.4444444444444444,
             "#bd3786"
            ],
            [
             0.5555555555555556,
             "#d8576b"
            ],
            [
             0.6666666666666666,
             "#ed7953"
            ],
            [
             0.7777777777777778,
             "#fb9f3a"
            ],
            [
             0.8888888888888888,
             "#fdca26"
            ],
            [
             1,
             "#f0f921"
            ]
           ],
           "sequentialminus": [
            [
             0,
             "#0d0887"
            ],
            [
             0.1111111111111111,
             "#46039f"
            ],
            [
             0.2222222222222222,
             "#7201a8"
            ],
            [
             0.3333333333333333,
             "#9c179e"
            ],
            [
             0.4444444444444444,
             "#bd3786"
            ],
            [
             0.5555555555555556,
             "#d8576b"
            ],
            [
             0.6666666666666666,
             "#ed7953"
            ],
            [
             0.7777777777777778,
             "#fb9f3a"
            ],
            [
             0.8888888888888888,
             "#fdca26"
            ],
            [
             1,
             "#f0f921"
            ]
           ]
          },
          "colorway": [
           "#636efa",
           "#EF553B",
           "#00cc96",
           "#ab63fa",
           "#FFA15A",
           "#19d3f3",
           "#FF6692",
           "#B6E880",
           "#FF97FF",
           "#FECB52"
          ],
          "font": {
           "color": "#2a3f5f"
          },
          "geo": {
           "bgcolor": "white",
           "lakecolor": "white",
           "landcolor": "white",
           "showlakes": true,
           "showland": true,
           "subunitcolor": "#C8D4E3"
          },
          "hoverlabel": {
           "align": "left"
          },
          "hovermode": "closest",
          "mapbox": {
           "style": "light"
          },
          "paper_bgcolor": "white",
          "plot_bgcolor": "white",
          "polar": {
           "angularaxis": {
            "gridcolor": "#EBF0F8",
            "linecolor": "#EBF0F8",
            "ticks": ""
           },
           "bgcolor": "white",
           "radialaxis": {
            "gridcolor": "#EBF0F8",
            "linecolor": "#EBF0F8",
            "ticks": ""
           }
          },
          "scene": {
           "xaxis": {
            "backgroundcolor": "white",
            "gridcolor": "#DFE8F3",
            "gridwidth": 2,
            "linecolor": "#EBF0F8",
            "showbackground": true,
            "ticks": "",
            "zerolinecolor": "#EBF0F8"
           },
           "yaxis": {
            "backgroundcolor": "white",
            "gridcolor": "#DFE8F3",
            "gridwidth": 2,
            "linecolor": "#EBF0F8",
            "showbackground": true,
            "ticks": "",
            "zerolinecolor": "#EBF0F8"
           },
           "zaxis": {
            "backgroundcolor": "white",
            "gridcolor": "#DFE8F3",
            "gridwidth": 2,
            "linecolor": "#EBF0F8",
            "showbackground": true,
            "ticks": "",
            "zerolinecolor": "#EBF0F8"
           }
          },
          "shapedefaults": {
           "line": {
            "color": "#2a3f5f"
           }
          },
          "ternary": {
           "aaxis": {
            "gridcolor": "#DFE8F3",
            "linecolor": "#A2B1C6",
            "ticks": ""
           },
           "baxis": {
            "gridcolor": "#DFE8F3",
            "linecolor": "#A2B1C6",
            "ticks": ""
           },
           "bgcolor": "white",
           "caxis": {
            "gridcolor": "#DFE8F3",
            "linecolor": "#A2B1C6",
            "ticks": ""
           }
          },
          "title": {
           "x": 0.05
          },
          "xaxis": {
           "automargin": true,
           "gridcolor": "#EBF0F8",
           "linecolor": "#EBF0F8",
           "ticks": "",
           "title": {
            "standoff": 15
           },
           "zerolinecolor": "#EBF0F8",
           "zerolinewidth": 2
          },
          "yaxis": {
           "automargin": true,
           "gridcolor": "#EBF0F8",
           "linecolor": "#EBF0F8",
           "ticks": "",
           "title": {
            "standoff": 15
           },
           "zerolinecolor": "#EBF0F8",
           "zerolinewidth": 2
          }
         }
        },
        "title": {
         "text": "Target (Daily Forward Excess Returns) Over Time"
        },
        "xaxis": {
         "anchor": "y",
         "domain": [
          0,
          1
         ],
         "title": {
          "text": "Date ID"
         }
        },
        "yaxis": {
         "anchor": "x",
         "domain": [
          0,
          1
         ],
         "title": {
          "text": "Excess Return"
         }
        }
       }
      }
     },
     "metadata": {},
     "output_type": "display_data"
    },
    {
     "name": "stdout",
     "output_type": "stream",
     "text": [
      "Top 20 Most Positively Correlated Features with Target:\n",
      "shape: (20, 2)\n",
      "┌─────────┬─────────────┐\n",
      "│ feature ┆ correlation │\n",
      "│ ---     ┆ ---         │\n",
      "│ str     ┆ f64         │\n",
      "╞═════════╪═════════════╡\n",
      "│ V13     ┆ 0.059044    │\n",
      "│ M1      ┆ 0.046339    │\n",
      "│ S5      ┆ 0.040966    │\n",
      "│ D1      ┆ 0.036755    │\n",
      "│ D2      ┆ 0.036755    │\n",
      "│ …       ┆ …           │\n",
      "│ V9      ┆ 0.016725    │\n",
      "│ M3      ┆ 0.016725    │\n",
      "│ D7      ┆ 0.016519    │\n",
      "│ E9      ┆ 0.015674    │\n",
      "│ V6      ┆ 0.015013    │\n",
      "└─────────┴─────────────┘\n",
      "\n",
      "Top 20 Most Negatively Correlated Features with Target:\n",
      "shape: (20, 2)\n",
      "┌────────────────┬─────────────┐\n",
      "│ feature        ┆ correlation │\n",
      "│ ---            ┆ ---         │\n",
      "│ str            ┆ f64         │\n",
      "╞════════════════╪═════════════╡\n",
      "│ M4             ┆ -0.063344   │\n",
      "│ S2             ┆ -0.034      │\n",
      "│ P8             ┆ -0.033159   │\n",
      "│ E7             ┆ -0.032476   │\n",
      "│ E11            ┆ -0.032356   │\n",
      "│ …              ┆ …           │\n",
      "│ P11            ┆ -0.015763   │\n",
      "│ risk_free_rate ┆ -0.014196   │\n",
      "│ P3             ┆ -0.013491   │\n",
      "│ E13            ┆ -0.011574   │\n",
      "│ I1             ┆ -0.010404   │\n",
      "└────────────────┴─────────────┘\n"
     ]
    },
    {
     "name": "stderr",
     "output_type": "stream",
     "text": [
      "/tmp/ipykernel_50493/267750008.py:113: DataOrientationWarning:\n",
      "\n",
      "Row orientation inferred during DataFrame construction. Explicitly specify the orientation by passing `orient=\"row\"` to silence this warning.\n",
      "\n"
     ]
    },
    {
     "data": {
      "application/vnd.plotly.v1+json": {
       "config": {
        "plotlyServerURL": "https://plot.ly"
       },
       "data": [
        {
         "hovertemplate": "Pearson Correlation=%{marker.color}<br>Feature=%{y}<extra></extra>",
         "legendgroup": "",
         "marker": {
          "color": {
           "bdata": "XNuhMQk7rj8DpEZKuLmnP/LiKriE+aQ/RI38YpHRoj9EjfxikdGiPxcs0ak6DqE/uDu5CafCoD+roSGd+T2bP1+W7oD+vJo/ywz75e5ImD/qgTDvq1WXP7y9GOuovZU/BFvlz2ZGlD/jMLBstU2RP1R0KZRTOJE/lR+Th28gkT/NlmE2PSCRPw+h8L1y6pA/oDUEQegMkD8q20D2Jb+OP57la4RMN7C/ZFwdTYNoob9/pzc8NPqgv4ja1fG1oKC/e0UfHwCRoL9MZyDypL6fv+LcuHBquZu/CHXp2Tsxm7853p5NWRuav0cAlATmr5i/aXKpxIKQmL9aRsXlUC2XvzoXslR3JpW/LIGecKoTk7+0inVfMCWQv18EJzU5JJC/QLrjxp4Sjb9vTtkhGqGLvwoZqHwLtIe/uu9TAulOhb8=",
           "dtype": "f8"
          },
          "coloraxis": "coloraxis",
          "pattern": {
           "shape": ""
          }
         },
         "name": "",
         "orientation": "h",
         "showlegend": false,
         "textposition": "auto",
         "type": "bar",
         "x": {
          "bdata": "XNuhMQk7rj8DpEZKuLmnP/LiKriE+aQ/RI38YpHRoj9EjfxikdGiPxcs0ak6DqE/uDu5CafCoD+roSGd+T2bP1+W7oD+vJo/ywz75e5ImD/qgTDvq1WXP7y9GOuovZU/BFvlz2ZGlD/jMLBstU2RP1R0KZRTOJE/lR+Th28gkT/NlmE2PSCRPw+h8L1y6pA/oDUEQegMkD8q20D2Jb+OP57la4RMN7C/ZFwdTYNoob9/pzc8NPqgv4ja1fG1oKC/e0UfHwCRoL9MZyDypL6fv+LcuHBquZu/CHXp2Tsxm7853p5NWRuav0cAlATmr5i/aXKpxIKQmL9aRsXlUC2XvzoXslR3JpW/LIGecKoTk7+0inVfMCWQv18EJzU5JJC/QLrjxp4Sjb9vTtkhGqGLvwoZqHwLtIe/uu9TAulOhb8=",
          "dtype": "f8"
         },
         "xaxis": "x",
         "y": [
          "V13",
          "M1",
          "S5",
          "D1",
          "D2",
          "M2",
          "V10",
          "V7",
          "S12",
          "S6",
          "M17",
          "D8",
          "E19",
          "D4",
          "D6",
          "V9",
          "M3",
          "D7",
          "E9",
          "V6",
          "M4",
          "S2",
          "P8",
          "E7",
          "E11",
          "E12",
          "M12",
          "I2",
          "P7",
          "P5",
          "P10",
          "P12",
          "M8",
          "S3",
          "S7",
          "P11",
          "risk_free_rate",
          "P3",
          "E13",
          "I1"
         ],
         "yaxis": "y"
        }
       ],
       "layout": {
        "barmode": "relative",
        "coloraxis": {
         "colorbar": {
          "title": {
           "text": "Pearson Correlation"
          }
         },
         "colorscale": [
          [
           0,
           "rgb(5,48,97)"
          ],
          [
           0.1,
           "rgb(33,102,172)"
          ],
          [
           0.2,
           "rgb(67,147,195)"
          ],
          [
           0.3,
           "rgb(146,197,222)"
          ],
          [
           0.4,
           "rgb(209,229,240)"
          ],
          [
           0.5,
           "rgb(247,247,247)"
          ],
          [
           0.6,
           "rgb(253,219,199)"
          ],
          [
           0.7,
           "rgb(244,165,130)"
          ],
          [
           0.8,
           "rgb(214,96,77)"
          ],
          [
           0.9,
           "rgb(178,24,43)"
          ],
          [
           1,
           "rgb(103,0,31)"
          ]
         ]
        },
        "height": 800,
        "legend": {
         "tracegroupgap": 0
        },
        "template": {
         "data": {
          "bar": [
           {
            "error_x": {
             "color": "#2a3f5f"
            },
            "error_y": {
             "color": "#2a3f5f"
            },
            "marker": {
             "line": {
              "color": "white",
              "width": 0.5
             },
             "pattern": {
              "fillmode": "overlay",
              "size": 10,
              "solidity": 0.2
             }
            },
            "type": "bar"
           }
          ],
          "barpolar": [
           {
            "marker": {
             "line": {
              "color": "white",
              "width": 0.5
             },
             "pattern": {
              "fillmode": "overlay",
              "size": 10,
              "solidity": 0.2
             }
            },
            "type": "barpolar"
           }
          ],
          "carpet": [
           {
            "aaxis": {
             "endlinecolor": "#2a3f5f",
             "gridcolor": "#C8D4E3",
             "linecolor": "#C8D4E3",
             "minorgridcolor": "#C8D4E3",
             "startlinecolor": "#2a3f5f"
            },
            "baxis": {
             "endlinecolor": "#2a3f5f",
             "gridcolor": "#C8D4E3",
             "linecolor": "#C8D4E3",
             "minorgridcolor": "#C8D4E3",
             "startlinecolor": "#2a3f5f"
            },
            "type": "carpet"
           }
          ],
          "choropleth": [
           {
            "colorbar": {
             "outlinewidth": 0,
             "ticks": ""
            },
            "type": "choropleth"
           }
          ],
          "contour": [
           {
            "colorbar": {
             "outlinewidth": 0,
             "ticks": ""
            },
            "colorscale": [
             [
              0,
              "#0d0887"
             ],
             [
              0.1111111111111111,
              "#46039f"
             ],
             [
              0.2222222222222222,
              "#7201a8"
             ],
             [
              0.3333333333333333,
              "#9c179e"
             ],
             [
              0.4444444444444444,
              "#bd3786"
             ],
             [
              0.5555555555555556,
              "#d8576b"
             ],
             [
              0.6666666666666666,
              "#ed7953"
             ],
             [
              0.7777777777777778,
              "#fb9f3a"
             ],
             [
              0.8888888888888888,
              "#fdca26"
             ],
             [
              1,
              "#f0f921"
             ]
            ],
            "type": "contour"
           }
          ],
          "contourcarpet": [
           {
            "colorbar": {
             "outlinewidth": 0,
             "ticks": ""
            },
            "type": "contourcarpet"
           }
          ],
          "heatmap": [
           {
            "colorbar": {
             "outlinewidth": 0,
             "ticks": ""
            },
            "colorscale": [
             [
              0,
              "#0d0887"
             ],
             [
              0.1111111111111111,
              "#46039f"
             ],
             [
              0.2222222222222222,
              "#7201a8"
             ],
             [
              0.3333333333333333,
              "#9c179e"
             ],
             [
              0.4444444444444444,
              "#bd3786"
             ],
             [
              0.5555555555555556,
              "#d8576b"
             ],
             [
              0.6666666666666666,
              "#ed7953"
             ],
             [
              0.7777777777777778,
              "#fb9f3a"
             ],
             [
              0.8888888888888888,
              "#fdca26"
             ],
             [
              1,
              "#f0f921"
             ]
            ],
            "type": "heatmap"
           }
          ],
          "histogram": [
           {
            "marker": {
             "pattern": {
              "fillmode": "overlay",
              "size": 10,
              "solidity": 0.2
             }
            },
            "type": "histogram"
           }
          ],
          "histogram2d": [
           {
            "colorbar": {
             "outlinewidth": 0,
             "ticks": ""
            },
            "colorscale": [
             [
              0,
              "#0d0887"
             ],
             [
              0.1111111111111111,
              "#46039f"
             ],
             [
              0.2222222222222222,
              "#7201a8"
             ],
             [
              0.3333333333333333,
              "#9c179e"
             ],
             [
              0.4444444444444444,
              "#bd3786"
             ],
             [
              0.5555555555555556,
              "#d8576b"
             ],
             [
              0.6666666666666666,
              "#ed7953"
             ],
             [
              0.7777777777777778,
              "#fb9f3a"
             ],
             [
              0.8888888888888888,
              "#fdca26"
             ],
             [
              1,
              "#f0f921"
             ]
            ],
            "type": "histogram2d"
           }
          ],
          "histogram2dcontour": [
           {
            "colorbar": {
             "outlinewidth": 0,
             "ticks": ""
            },
            "colorscale": [
             [
              0,
              "#0d0887"
             ],
             [
              0.1111111111111111,
              "#46039f"
             ],
             [
              0.2222222222222222,
              "#7201a8"
             ],
             [
              0.3333333333333333,
              "#9c179e"
             ],
             [
              0.4444444444444444,
              "#bd3786"
             ],
             [
              0.5555555555555556,
              "#d8576b"
             ],
             [
              0.6666666666666666,
              "#ed7953"
             ],
             [
              0.7777777777777778,
              "#fb9f3a"
             ],
             [
              0.8888888888888888,
              "#fdca26"
             ],
             [
              1,
              "#f0f921"
             ]
            ],
            "type": "histogram2dcontour"
           }
          ],
          "mesh3d": [
           {
            "colorbar": {
             "outlinewidth": 0,
             "ticks": ""
            },
            "type": "mesh3d"
           }
          ],
          "parcoords": [
           {
            "line": {
             "colorbar": {
              "outlinewidth": 0,
              "ticks": ""
             }
            },
            "type": "parcoords"
           }
          ],
          "pie": [
           {
            "automargin": true,
            "type": "pie"
           }
          ],
          "scatter": [
           {
            "fillpattern": {
             "fillmode": "overlay",
             "size": 10,
             "solidity": 0.2
            },
            "type": "scatter"
           }
          ],
          "scatter3d": [
           {
            "line": {
             "colorbar": {
              "outlinewidth": 0,
              "ticks": ""
             }
            },
            "marker": {
             "colorbar": {
              "outlinewidth": 0,
              "ticks": ""
             }
            },
            "type": "scatter3d"
           }
          ],
          "scattercarpet": [
           {
            "marker": {
             "colorbar": {
              "outlinewidth": 0,
              "ticks": ""
             }
            },
            "type": "scattercarpet"
           }
          ],
          "scattergeo": [
           {
            "marker": {
             "colorbar": {
              "outlinewidth": 0,
              "ticks": ""
             }
            },
            "type": "scattergeo"
           }
          ],
          "scattergl": [
           {
            "marker": {
             "colorbar": {
              "outlinewidth": 0,
              "ticks": ""
             }
            },
            "type": "scattergl"
           }
          ],
          "scattermap": [
           {
            "marker": {
             "colorbar": {
              "outlinewidth": 0,
              "ticks": ""
             }
            },
            "type": "scattermap"
           }
          ],
          "scattermapbox": [
           {
            "marker": {
             "colorbar": {
              "outlinewidth": 0,
              "ticks": ""
             }
            },
            "type": "scattermapbox"
           }
          ],
          "scatterpolar": [
           {
            "marker": {
             "colorbar": {
              "outlinewidth": 0,
              "ticks": ""
             }
            },
            "type": "scatterpolar"
           }
          ],
          "scatterpolargl": [
           {
            "marker": {
             "colorbar": {
              "outlinewidth": 0,
              "ticks": ""
             }
            },
            "type": "scatterpolargl"
           }
          ],
          "scatterternary": [
           {
            "marker": {
             "colorbar": {
              "outlinewidth": 0,
              "ticks": ""
             }
            },
            "type": "scatterternary"
           }
          ],
          "surface": [
           {
            "colorbar": {
             "outlinewidth": 0,
             "ticks": ""
            },
            "colorscale": [
             [
              0,
              "#0d0887"
             ],
             [
              0.1111111111111111,
              "#46039f"
             ],
             [
              0.2222222222222222,
              "#7201a8"
             ],
             [
              0.3333333333333333,
              "#9c179e"
             ],
             [
              0.4444444444444444,
              "#bd3786"
             ],
             [
              0.5555555555555556,
              "#d8576b"
             ],
             [
              0.6666666666666666,
              "#ed7953"
             ],
             [
              0.7777777777777778,
              "#fb9f3a"
             ],
             [
              0.8888888888888888,
              "#fdca26"
             ],
             [
              1,
              "#f0f921"
             ]
            ],
            "type": "surface"
           }
          ],
          "table": [
           {
            "cells": {
             "fill": {
              "color": "#EBF0F8"
             },
             "line": {
              "color": "white"
             }
            },
            "header": {
             "fill": {
              "color": "#C8D4E3"
             },
             "line": {
              "color": "white"
             }
            },
            "type": "table"
           }
          ]
         },
         "layout": {
          "annotationdefaults": {
           "arrowcolor": "#2a3f5f",
           "arrowhead": 0,
           "arrowwidth": 1
          },
          "autotypenumbers": "strict",
          "coloraxis": {
           "colorbar": {
            "outlinewidth": 0,
            "ticks": ""
           }
          },
          "colorscale": {
           "diverging": [
            [
             0,
             "#8e0152"
            ],
            [
             0.1,
             "#c51b7d"
            ],
            [
             0.2,
             "#de77ae"
            ],
            [
             0.3,
             "#f1b6da"
            ],
            [
             0.4,
             "#fde0ef"
            ],
            [
             0.5,
             "#f7f7f7"
            ],
            [
             0.6,
             "#e6f5d0"
            ],
            [
             0.7,
             "#b8e186"
            ],
            [
             0.8,
             "#7fbc41"
            ],
            [
             0.9,
             "#4d9221"
            ],
            [
             1,
             "#276419"
            ]
           ],
           "sequential": [
            [
             0,
             "#0d0887"
            ],
            [
             0.1111111111111111,
             "#46039f"
            ],
            [
             0.2222222222222222,
             "#7201a8"
            ],
            [
             0.3333333333333333,
             "#9c179e"
            ],
            [
             0.4444444444444444,
             "#bd3786"
            ],
            [
             0.5555555555555556,
             "#d8576b"
            ],
            [
             0.6666666666666666,
             "#ed7953"
            ],
            [
             0.7777777777777778,
             "#fb9f3a"
            ],
            [
             0.8888888888888888,
             "#fdca26"
            ],
            [
             1,
             "#f0f921"
            ]
           ],
           "sequentialminus": [
            [
             0,
             "#0d0887"
            ],
            [
             0.1111111111111111,
             "#46039f"
            ],
            [
             0.2222222222222222,
             "#7201a8"
            ],
            [
             0.3333333333333333,
             "#9c179e"
            ],
            [
             0.4444444444444444,
             "#bd3786"
            ],
            [
             0.5555555555555556,
             "#d8576b"
            ],
            [
             0.6666666666666666,
             "#ed7953"
            ],
            [
             0.7777777777777778,
             "#fb9f3a"
            ],
            [
             0.8888888888888888,
             "#fdca26"
            ],
            [
             1,
             "#f0f921"
            ]
           ]
          },
          "colorway": [
           "#636efa",
           "#EF553B",
           "#00cc96",
           "#ab63fa",
           "#FFA15A",
           "#19d3f3",
           "#FF6692",
           "#B6E880",
           "#FF97FF",
           "#FECB52"
          ],
          "font": {
           "color": "#2a3f5f"
          },
          "geo": {
           "bgcolor": "white",
           "lakecolor": "white",
           "landcolor": "white",
           "showlakes": true,
           "showland": true,
           "subunitcolor": "#C8D4E3"
          },
          "hoverlabel": {
           "align": "left"
          },
          "hovermode": "closest",
          "mapbox": {
           "style": "light"
          },
          "paper_bgcolor": "white",
          "plot_bgcolor": "white",
          "polar": {
           "angularaxis": {
            "gridcolor": "#EBF0F8",
            "linecolor": "#EBF0F8",
            "ticks": ""
           },
           "bgcolor": "white",
           "radialaxis": {
            "gridcolor": "#EBF0F8",
            "linecolor": "#EBF0F8",
            "ticks": ""
           }
          },
          "scene": {
           "xaxis": {
            "backgroundcolor": "white",
            "gridcolor": "#DFE8F3",
            "gridwidth": 2,
            "linecolor": "#EBF0F8",
            "showbackground": true,
            "ticks": "",
            "zerolinecolor": "#EBF0F8"
           },
           "yaxis": {
            "backgroundcolor": "white",
            "gridcolor": "#DFE8F3",
            "gridwidth": 2,
            "linecolor": "#EBF0F8",
            "showbackground": true,
            "ticks": "",
            "zerolinecolor": "#EBF0F8"
           },
           "zaxis": {
            "backgroundcolor": "white",
            "gridcolor": "#DFE8F3",
            "gridwidth": 2,
            "linecolor": "#EBF0F8",
            "showbackground": true,
            "ticks": "",
            "zerolinecolor": "#EBF0F8"
           }
          },
          "shapedefaults": {
           "line": {
            "color": "#2a3f5f"
           }
          },
          "ternary": {
           "aaxis": {
            "gridcolor": "#DFE8F3",
            "linecolor": "#A2B1C6",
            "ticks": ""
           },
           "baxis": {
            "gridcolor": "#DFE8F3",
            "linecolor": "#A2B1C6",
            "ticks": ""
           },
           "bgcolor": "white",
           "caxis": {
            "gridcolor": "#DFE8F3",
            "linecolor": "#A2B1C6",
            "ticks": ""
           }
          },
          "title": {
           "x": 0.05
          },
          "xaxis": {
           "automargin": true,
           "gridcolor": "#EBF0F8",
           "linecolor": "#EBF0F8",
           "ticks": "",
           "title": {
            "standoff": 15
           },
           "zerolinecolor": "#EBF0F8",
           "zerolinewidth": 2
          },
          "yaxis": {
           "automargin": true,
           "gridcolor": "#EBF0F8",
           "linecolor": "#EBF0F8",
           "ticks": "",
           "title": {
            "standoff": 15
           },
           "zerolinecolor": "#EBF0F8",
           "zerolinewidth": 2
          }
         }
        },
        "title": {
         "text": "Top 40 Features Correlated with Target"
        },
        "xaxis": {
         "anchor": "y",
         "domain": [
          0,
          1
         ],
         "title": {
          "text": "Pearson Correlation"
         }
        },
        "yaxis": {
         "anchor": "x",
         "categoryorder": "total ascending",
         "domain": [
          0,
          1
         ],
         "title": {
          "text": "Feature"
         }
        }
       }
      }
     },
     "metadata": {},
     "output_type": "display_data"
    }
   ],
   "source": [
    "import polars as pl\n",
    "import plotly.express as px\n",
    "import plotly.graph_objects as go\n",
    "from plotly.subplots import make_subplots\n",
    "\n",
    "# Set default plotly template for better aesthetics\n",
    "import plotly.io as pio\n",
    "pio.templates.default = \"plotly_white\"\n",
    "\n",
    "# %% [markdown]\n",
    "# ## 2. Load and Prepare Data\n",
    "# Here, we load the training data, rename the target column for clarity, and ensure all feature columns are cast to a numeric type (`Float64`).\n",
    "\n",
    "# %%\n",
    "# Load the dataset using Polars\n",
    "full_train_df = pl.read_csv(\"./kaggle/train.csv\")\n",
    "\n",
    "# Rename the target column\n",
    "full_train_df = full_train_df.rename({'market_forward_excess_returns': 'target'})\n",
    "\n",
    "full_train_df = full_train_df.slice(2000)\n",
    "\n",
    "# Explicitly cast all columns except date_id to Float64\n",
    "feature_cols = [col for col in full_train_df.columns if col not in ['date_id', 'target']]\n",
    "\n",
    "full_train_df = full_train_df.with_columns(\n",
    "    pl.col(feature_cols + ['target']).cast(pl.Float64, strict=False)\n",
    ")\n",
    "\n",
    "print(\"Data loaded and prepared successfully.\")\n",
    "print(f\"Shape of the dataframe: {full_train_df.shape}\")\n",
    "full_train_df.head()\n",
    "\n",
    "# %% [markdown]\n",
    "# ## 3. Null Rate Analysis\n",
    "# A crucial step in any data analysis is understanding missing data. We'll calculate the percentage of null values for every column and visualize the result. This helps identify features that might require imputation or be unsuitable for modeling.\n",
    "\n",
    "# %%\n",
    "# Calculate null counts and rates\n",
    "null_counts = full_train_df.null_count()\n",
    "total_rows = len(full_train_df)\n",
    "\n",
    "# Create a DataFrame for null rates\n",
    "null_info_df = pl.DataFrame({\n",
    "    'column': null_counts.columns,\n",
    "    'null_count': null_counts.row(0),\n",
    "}).with_columns(\n",
    "    (pl.col('null_count') / total_rows * 100).alias('null_rate_pct')\n",
    ").sort('null_rate_pct', descending=True)\n",
    "\n",
    "# Filter out columns with zero nulls for a cleaner plot\n",
    "null_info_to_plot = null_info_df.filter(pl.col('null_rate_pct') > 0)\n",
    "\n",
    "# Display the null rate table\n",
    "print(\"Null Value Rates per Column:\")\n",
    "print(null_info_df)\n",
    "\n",
    "# %%\n",
    "# Visualize the null rates\n",
    "fig = px.bar(\n",
    "    null_info_to_plot,\n",
    "    x='column',\n",
    "    y='null_rate_pct',\n",
    "    title='Percentage of Missing Values per Feature (Features with >0% Missing)',\n",
    "    labels={'column': 'Feature', 'null_rate_pct': 'Missing Value Rate (%)'},\n",
    "    height=600\n",
    ")\n",
    "fig.update_layout(xaxis_tickangle=-90)\n",
    "fig.show()\n",
    "\n",
    "\n",
    "# %% [markdown]\n",
    "# ## 4. Target Variable Visualization\n",
    "# Understanding the target variable is the most important part of EDA for a predictive model. We'll look at its distribution and how it behaves over time.\n",
    "\n",
    "# %%\n",
    "# Plot the distribution of the target variable\n",
    "fig_dist = px.histogram(\n",
    "    full_train_df,\n",
    "    x='target',\n",
    "    nbins=100,\n",
    "    title='Distribution of Target (Daily Forward Excess Returns)',\n",
    "    labels={'target': 'Excess Return'}\n",
    ")\n",
    "fig_dist.show()\n",
    "\n",
    "# Plot the target variable over time (using date_id as the time axis)\n",
    "fig_ts = px.line(\n",
    "    full_train_df,\n",
    "    x='date_id',\n",
    "    y='target',\n",
    "    title='Target (Daily Forward Excess Returns) Over Time',\n",
    "    labels={'date_id': 'Date ID', 'target': 'Excess Return'}\n",
    ")\n",
    "fig_ts.show()\n",
    "\n",
    "\n",
    "# %% [markdown]\n",
    "# ## 5. Feature Correlation Analysis\n",
    "# To get a first look at which features might be predictive, we can calculate the Pearson correlation between each feature and the target. A higher absolute correlation suggests a stronger linear relationship.\n",
    "\n",
    "# %%\n",
    "# Calculate correlation of each feature with the target\n",
    "correlations = []\n",
    "for col in feature_cols:\n",
    "    # .item() extracts the single value from the Polars expression result\n",
    "    if col in ['forward_returns']:\n",
    "        continue  # Skip\n",
    "    corr_value = full_train_df.select(pl.corr('target', col)).item()\n",
    "    correlations.append((col, corr_value))\n",
    "\n",
    "# Create a DataFrame of correlations\n",
    "corr_df = pl.DataFrame(correlations, schema=['feature', 'correlation']).sort('correlation', descending=True, nulls_last=True)\n",
    "\n",
    "# Separate top positive and top negative correlations for visualization\n",
    "top_n = 20\n",
    "top_positive_corr = corr_df.head(top_n)\n",
    "top_negative_corr = corr_df.tail(top_n).sort('correlation', descending=False)\n",
    "\n",
    "# Combine for plotting\n",
    "top_corr_to_plot = pl.concat([top_positive_corr, top_negative_corr])\n",
    "\n",
    "print(f\"Top {top_n} Most Positively Correlated Features with Target:\")\n",
    "print(top_positive_corr)\n",
    "print(f\"\\nTop {top_n} Most Negatively Correlated Features with Target:\")\n",
    "print(top_negative_corr.sort('correlation'))\n",
    "\n",
    "\n",
    "# %%\n",
    "# Visualize the top correlations\n",
    "fig_corr = px.bar(\n",
    "    top_corr_to_plot,\n",
    "    x='correlation',\n",
    "    y='feature',\n",
    "    orientation='h',\n",
    "    title=f'Top {top_n*2} Features Correlated with Target',\n",
    "    labels={'feature': 'Feature', 'correlation': 'Pearson Correlation'},\n",
    "    color='correlation',\n",
    "    color_continuous_scale='RdBu_r',\n",
    "    height=800\n",
    ")\n",
    "fig_corr.update_layout(yaxis={'categoryorder':'total ascending'})\n",
    "fig_corr.show()"
   ]
  }
 ],
 "metadata": {
  "kernelspec": {
   "display_name": "ml_311",
   "language": "python",
   "name": "python3"
  },
  "language_info": {
   "codemirror_mode": {
    "name": "ipython",
    "version": 3
   },
   "file_extension": ".py",
   "mimetype": "text/x-python",
   "name": "python",
   "nbconvert_exporter": "python",
   "pygments_lexer": "ipython3",
   "version": "3.11.11"
  }
 },
 "nbformat": 4,
 "nbformat_minor": 5
}
